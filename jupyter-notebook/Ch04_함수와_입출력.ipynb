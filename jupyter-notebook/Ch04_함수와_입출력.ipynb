{
  "nbformat": 4,
  "nbformat_minor": 0,
  "metadata": {
    "colab": {
      "name": "Ch04-함수와 입출력.ipynb",
      "provenance": [],
      "collapsed_sections": [],
      "include_colab_link": true
    },
    "language_info": {
      "codemirror_mode": {
        "name": "ipython",
        "version": 3
      },
      "file_extension": ".py",
      "mimetype": "text/x-python",
      "name": "python",
      "nbconvert_exporter": "python",
      "pygments_lexer": "ipython3",
      "version": "3.7.3"
    },
    "kernelspec": {
      "display_name": "Python 3",
      "language": "python",
      "name": "python3"
    }
  },
  "cells": [
    {
      "cell_type": "markdown",
      "metadata": {
        "id": "view-in-github",
        "colab_type": "text"
      },
      "source": [
        "<a href=\"https://colab.research.google.com/github/dongupak/Prime-Python/blob/master/jupyter-notebook/Ch04_%ED%95%A8%EC%88%98%EC%99%80_%EC%9E%85%EC%B6%9C%EB%A0%A5.ipynb\" target=\"_parent\"><img src=\"https://colab.research.google.com/assets/colab-badge.svg\" alt=\"Open In Colab\"/></a>"
      ]
    },
    {
      "cell_type": "markdown",
      "metadata": {
        "id": "77umBk0NzoNG"
      },
      "source": [
        "# **생능 출판사 \"으뜸 파이썬\"(1판) 교재 소스 코드**\n",
        "# *4장 함수와 입출력*\n",
        "---\n",
        "* 출판사 : 생능 출판사( http://www.booksr.co.kr/ )\n",
        "* 으뜸 파이썬 저자 : 박동규, 강영민 \n",
        "* 소스코드 저장소 : https://github.com/dongupak/Prime-Python\n",
        "* 저작권 : 본 주피터 노트북 코드는 자유롭게 배포가능하지만 위의 출판사, 저서, 저자표기와 함께 배포해 주십시오.\n",
        "--- "
      ]
    },
    {
      "cell_type": "markdown",
      "metadata": {
        "id": "OlF_QOP_ATkF"
      },
      "source": [
        "# 코드 4-1 : 별표 출력을 위한 함수 정의와 호출\n",
        "\n",
        "## print_star_func.py"
      ]
    },
    {
      "cell_type": "code",
      "metadata": {
        "scrolled": false,
        "id": "mOtlORYvATkI",
        "colab": {
          "base_uri": "https://localhost:8080/",
          "height": 35
        },
        "outputId": "247a9e06-1283-425a-aabb-aa450aadb1e2"
      },
      "source": [
        "def print_star():  # 별표 출력을 위한 함수 정의    \n",
        "    print('************************')\n",
        "    \n",
        "print_star()       # 별표 출력을 위한 함수 호출"
      ],
      "execution_count": null,
      "outputs": [
        {
          "output_type": "stream",
          "text": [
            "************************\n"
          ],
          "name": "stdout"
        }
      ]
    },
    {
      "cell_type": "markdown",
      "metadata": {
        "id": "DsEf-2IiATkU"
      },
      "source": [
        "# 코드 4-2 : 별표 출력을 위한 함수 정의와 반복 호출\n",
        "## print_star_4.py"
      ]
    },
    {
      "cell_type": "code",
      "metadata": {
        "scrolled": true,
        "id": "Az8_7YWuATkW",
        "colab": {
          "base_uri": "https://localhost:8080/",
          "height": 89
        },
        "outputId": "ed0fbec9-4d9a-4572-fa90-3fe5e335ad1e"
      },
      "source": [
        "def print_star():\n",
        "    print('************************')\n",
        "    \n",
        "print_star() # 별표 출력함수 호출 1\n",
        "print_star() # 별표 출력함수 호출 2\n",
        "print_star() # 별표 출력함수 호출 3\n",
        "print_star() # 별표 출력함수 호출 4"
      ],
      "execution_count": null,
      "outputs": [
        {
          "output_type": "stream",
          "text": [
            "************************\n",
            "************************\n",
            "************************\n",
            "************************\n"
          ],
          "name": "stdout"
        }
      ]
    },
    {
      "cell_type": "markdown",
      "metadata": {
        "id": "OciEaLPBATkd"
      },
      "source": [
        "# 코드 4-3 : 3줄 별표 출력을 위한 함수 정의와 호출 방법\n",
        "## print_star3.py"
      ]
    },
    {
      "cell_type": "code",
      "metadata": {
        "id": "2QHxjJP9ATkf",
        "colab": {
          "base_uri": "https://localhost:8080/",
          "height": 179
        },
        "outputId": "6aa5e70f-dc16-46bc-d3af-16692f2c4e2a"
      },
      "source": [
        "def print_star3():    \n",
        "    print('************************')    \n",
        "    print('************************')    \n",
        "    print('************************')\n",
        "    \n",
        "    \n",
        "print_star3()  # 3줄의 별표가 출력됨\n",
        "print_star3()  # 3줄의 별표가 출력됨\n",
        "print_star3()  # 3줄의 별표가 출력됨"
      ],
      "execution_count": null,
      "outputs": [
        {
          "output_type": "stream",
          "text": [
            "************************\n",
            "************************\n",
            "************************\n",
            "************************\n",
            "************************\n",
            "************************\n",
            "************************\n",
            "************************\n",
            "************************\n"
          ],
          "name": "stdout"
        }
      ]
    },
    {
      "cell_type": "markdown",
      "metadata": {
        "id": "4rqXrJH2ATkl"
      },
      "source": [
        "# 코드 4-4 : 별표 출력을 위한 함수 정의와 호출 방법의 수정\n",
        "## print_star_plus.py"
      ]
    },
    {
      "cell_type": "code",
      "metadata": {
        "scrolled": true,
        "id": "ML0EmUPeATkn",
        "colab": {
          "base_uri": "https://localhost:8080/",
          "height": 89
        },
        "outputId": "5df4b108-ee79-4ad8-aaa5-201bc6bb49df"
      },
      "source": [
        "def print_star():  # 별표 기호를 한 줄 출력함\n",
        "    print('************************')\n",
        "\n",
        "def print_plus():  # 더하기 기호를 한 줄 출력함\n",
        "    print('++++++++++++++++++++++++')\n",
        "\n",
        "print_star()       # 별표 기호 출력\n",
        "print_plus()       # 더하기 기호 출력\n",
        "print_star()\n",
        "print_plus()       "
      ],
      "execution_count": null,
      "outputs": [
        {
          "output_type": "stream",
          "text": [
            "************************\n",
            "++++++++++++++++++++++++\n",
            "************************\n",
            "++++++++++++++++++++++++\n"
          ],
          "name": "stdout"
        }
      ]
    },
    {
      "cell_type": "code",
      "metadata": {
        "id": "jesFd5wv0fT3",
        "colab": {
          "base_uri": "https://localhost:8080/",
          "height": 90
        },
        "outputId": "0a826ab8-4483-4432-9e57-78abcadb1a11"
      },
      "source": [
        "def print_star():    \n",
        "    print('************************')\n",
        "    \n",
        "print_star() # 별표 출력 1 \n",
        "print_star() # 별표 출력 2 \n",
        "print_star() # 별표 출력 3 \n",
        "print_star() # 별표 출력 4"
      ],
      "execution_count": null,
      "outputs": [
        {
          "output_type": "stream",
          "text": [
            "************************\n",
            "************************\n",
            "************************\n",
            "************************\n"
          ],
          "name": "stdout"
        }
      ]
    },
    {
      "cell_type": "markdown",
      "metadata": {
        "id": "ez6qv6q7ATku"
      },
      "source": [
        "# 코드 4-5 : 매개변수를 가진 별표 출력 함수와 인자를 이용한 호출\n",
        "## print_star_param.py"
      ]
    },
    {
      "cell_type": "code",
      "metadata": {
        "id": "eafCrUXnATkv",
        "colab": {
          "base_uri": "https://localhost:8080/",
          "height": 90
        },
        "outputId": "816d05d2-ee9a-461d-d75f-75e604067fdf"
      },
      "source": [
        "# 별표 출력을 매개변수 n번만큼 반복하는 프로그램\n",
        "def print_star(n):\n",
        "    for _ in range(n):        \n",
        "        print('************************')\n",
        "        \n",
        "print_star(4) # 별표 출력을 위해 4라는 인자값을 준다"
      ],
      "execution_count": null,
      "outputs": [
        {
          "output_type": "stream",
          "text": [
            "************************\n",
            "************************\n",
            "************************\n",
            "************************\n"
          ],
          "name": "stdout"
        }
      ]
    },
    {
      "cell_type": "markdown",
      "metadata": {
        "id": "iEy7O0a3ATk2"
      },
      "source": [
        "# Note : 루프변수 i 값 출력하기 - 다음 코드도 테스트해 보세요"
      ]
    },
    {
      "cell_type": "code",
      "metadata": {
        "id": "I7jdEpc1ATk3",
        "colab": {
          "base_uri": "https://localhost:8080/",
          "height": 90
        },
        "outputId": "27963d97-ab97-42e4-fb0d-f40c4c28bfac"
      },
      "source": [
        "# 별표 출력을 매개변수 n번만큼 반복하는 프로그램\n",
        "def print_star(n):\n",
        "    for i in range(n):        \n",
        "        print(i, '************************')\n",
        "        \n",
        "print_star(4) # 별표 출력을 위해 4라는 인자값을 준다"
      ],
      "execution_count": null,
      "outputs": [
        {
          "output_type": "stream",
          "text": [
            "0 ************************\n",
            "1 ************************\n",
            "2 ************************\n",
            "3 ************************\n"
          ],
          "name": "stdout"
        }
      ]
    },
    {
      "cell_type": "markdown",
      "metadata": {
        "id": "dxq9IZ21ATk-"
      },
      "source": [
        "# 코드 4-6 : 매개 변수를 사용하여 지정된 문자를 인자 값만큼 반복 출력하기\n",
        "## print_hello_n_times.py"
      ]
    },
    {
      "cell_type": "code",
      "metadata": {
        "id": "o6k19wqbATk_",
        "colab": {
          "base_uri": "https://localhost:8080/",
          "height": 125
        },
        "outputId": "4c49a20b-3e6a-4c58-f14e-a83c79af80dd"
      },
      "source": [
        "def print_hello(n):            # 매개변수를 이용한 반복 출력    \n",
        "    print('Hello ' * n)\n",
        "    \n",
        "print('Hello를 두 번 출력합니다.')\n",
        "print_hello(2)\n",
        "print('Hello를 세 번 출력합니다.')\n",
        "print_hello(3)\n",
        "print('Hello를 네 번 출력합니다.')\n",
        "print_hello(4)"
      ],
      "execution_count": null,
      "outputs": [
        {
          "output_type": "stream",
          "text": [
            "Hello를 두 번 출력합니다.\n",
            "Hello Hello \n",
            "Hello를 세 번 출력합니다.\n",
            "Hello Hello Hello \n",
            "Hello를 네 번 출력합니다.\n",
            "Hello Hello Hello Hello \n"
          ],
          "name": "stdout"
        }
      ]
    },
    {
      "cell_type": "markdown",
      "metadata": {
        "id": "MJb05HCfATlG"
      },
      "source": [
        "# 코드 4-7 : 매개변수를 사용한 인자값의 합계\n",
        "## sum_func.py"
      ]
    },
    {
      "cell_type": "code",
      "metadata": {
        "id": "fUixjXRBATlI",
        "colab": {
          "base_uri": "https://localhost:8080/",
          "height": 53
        },
        "outputId": "72cebf76-c612-414e-9b4d-b601ab50ed4c"
      },
      "source": [
        "def print_sum(a, b):              # 두 개의 매개변수를 가진 함수    \n",
        "    result = a + b\n",
        "    print(a, '과', b, '의 합은', result, '입니다.')\n",
        "    \n",
        "print_sum(10, 20)\n",
        "print_sum(100, 200)"
      ],
      "execution_count": null,
      "outputs": [
        {
          "output_type": "stream",
          "text": [
            "10 과 20 의 합은 30 입니다.\n",
            "100 과 200 의 합은 300 입니다.\n"
          ],
          "name": "stdout"
        }
      ]
    },
    {
      "cell_type": "code",
      "metadata": {
        "id": "AxeI3VfOATlO",
        "colab": {
          "base_uri": "https://localhost:8080/",
          "height": 213
        },
        "outputId": "967c12e7-1e39-4841-8355-7ea3647bbfcc"
      },
      "source": [
        "def print_sum(a, b):    \n",
        "    result = a + b\n",
        "    print(a, '과', b, '의 합은', result, '입니다.')\n",
        "    \n",
        "print_sum(10) # 에러"
      ],
      "execution_count": null,
      "outputs": [
        {
          "output_type": "error",
          "ename": "TypeError",
          "evalue": "ignored",
          "traceback": [
            "\u001b[0;31m---------------------------------------------------------------------------\u001b[0m",
            "\u001b[0;31mTypeError\u001b[0m                                 Traceback (most recent call last)",
            "\u001b[0;32m<ipython-input-8-ec8bc3c39141>\u001b[0m in \u001b[0;36m<module>\u001b[0;34m()\u001b[0m\n\u001b[1;32m      3\u001b[0m     \u001b[0mprint\u001b[0m\u001b[0;34m(\u001b[0m\u001b[0ma\u001b[0m\u001b[0;34m,\u001b[0m \u001b[0;34m'과'\u001b[0m\u001b[0;34m,\u001b[0m \u001b[0mb\u001b[0m\u001b[0;34m,\u001b[0m \u001b[0;34m'의 합은'\u001b[0m\u001b[0;34m,\u001b[0m \u001b[0mresult\u001b[0m\u001b[0;34m,\u001b[0m \u001b[0;34m'입니다.'\u001b[0m\u001b[0;34m)\u001b[0m\u001b[0;34m\u001b[0m\u001b[0;34m\u001b[0m\u001b[0m\n\u001b[1;32m      4\u001b[0m \u001b[0;34m\u001b[0m\u001b[0m\n\u001b[0;32m----> 5\u001b[0;31m \u001b[0mprint_sum\u001b[0m\u001b[0;34m(\u001b[0m\u001b[0;36m10\u001b[0m\u001b[0;34m)\u001b[0m \u001b[0;31m# 에러\u001b[0m\u001b[0;34m\u001b[0m\u001b[0;34m\u001b[0m\u001b[0m\n\u001b[0m",
            "\u001b[0;31mTypeError\u001b[0m: print_sum() missing 1 required positional argument: 'b'"
          ]
        }
      ]
    },
    {
      "cell_type": "markdown",
      "metadata": {
        "id": "x_N8ptoqATmF"
      },
      "source": [
        "# 코드 4-8 : 2차 방정식의 근을 구하는 기능 \n",
        "## root_ex1.py"
      ]
    },
    {
      "cell_type": "code",
      "metadata": {
        "id": "dXozK7oeATmI",
        "colab": {
          "base_uri": "https://localhost:8080/",
          "height": 35
        },
        "outputId": "dba52b95-3db9-44e9-f753-b85af1faaf1d"
      },
      "source": [
        "a = 1\n",
        "b = 2\n",
        "c = -8\n",
        "\n",
        "# ( a * x^2 ) + ( b * x ) + c = 0\n",
        "r1 = (-b + (b ** 2 - 4 * a * c) ** 0.5) / (2 * a)\n",
        "r2 = (-b - (b ** 2 - 4 * a * c) ** 0.5) / (2 * a)\n",
        "\n",
        "print('해는', r1, '또는', r2)"
      ],
      "execution_count": null,
      "outputs": [
        {
          "output_type": "stream",
          "text": [
            "해는 2.0 또는 -4.0\n"
          ],
          "name": "stdout"
        }
      ]
    },
    {
      "cell_type": "markdown",
      "metadata": {
        "id": "qkCv8jwkATmP"
      },
      "source": [
        "# 코드 4-9 : 2차 방정식의 근을 구하는 기능의 반복 사용\n",
        "## root_ex2.py"
      ]
    },
    {
      "cell_type": "code",
      "metadata": {
        "id": "6SB4HXcnATmR",
        "colab": {
          "base_uri": "https://localhost:8080/",
          "height": 53
        },
        "outputId": "c690014d-5e7f-4d69-b4af-b2c140474fe9"
      },
      "source": [
        "a = 1\n",
        "b = 2\n",
        "c = -8\n",
        "\n",
        "#근의 공식으로 해를 한 번 더 구한다.(반복되는 코드)\n",
        "r1 = (-b + (b ** 2 - 4 * a * c) ** 0.5) / (2 * a)\n",
        "r2 = (-b - (b ** 2 - 4 * a * c) ** 0.5) / (2 * a)\n",
        "\n",
        "print('해는', r1, '또는', r2)\n",
        "a = 2\n",
        "b = -6\n",
        "c = -8\n",
        "#근의 공식으로 해를 한 번 더 구한다.(반복되는 코드)\n",
        "r1 = (-b + (b ** 2 - 4 * a * c) ** 0.5) / (2 * a)\n",
        "r2 = (-b - (b ** 2 - 4 * a * c) ** 0.5) / (2 * a)\n",
        "\n",
        "print('해는', r1, '또는', r2)"
      ],
      "execution_count": null,
      "outputs": [
        {
          "output_type": "stream",
          "text": [
            "해는 2.0 또는 -4.0\n",
            "해는 4.0 또는 -1.0\n"
          ],
          "name": "stdout"
        }
      ]
    },
    {
      "cell_type": "markdown",
      "metadata": {
        "id": "ZvXN9F5fATmW"
      },
      "source": [
        "# 코드 4-10 : 2차 방정식의 근을 구하는 기능을 함수로 만들기 \n",
        "## root_ex3.py"
      ]
    },
    {
      "cell_type": "code",
      "metadata": {
        "id": "eMWoR5x2ATmY",
        "colab": {
          "base_uri": "https://localhost:8080/",
          "height": 53
        },
        "outputId": "162f9e67-a1de-4c94-d142-cc5424d8b211"
      },
      "source": [
        "def print_root(a, b, c):    \n",
        "    r1 = (-b + (b ** 2 - 4 * a * c) ** 0.5) / (2 * a)    \n",
        "    r2 = (-b - (b ** 2 - 4 * a * c) ** 0.5) / (2 * a)    \n",
        "    print('해는', r1, '또는', r2)\n",
        "    \n",
        "# 계수값이 다른 2차 방정식의 해를 구함\n",
        "print_root(1, 2, -8)\n",
        "print_root(2, -6, -8)"
      ],
      "execution_count": null,
      "outputs": [
        {
          "output_type": "stream",
          "text": [
            "해는 2.0 또는 -4.0\n",
            "해는 4.0 또는 -1.0\n"
          ],
          "name": "stdout"
        }
      ]
    },
    {
      "cell_type": "markdown",
      "metadata": {
        "id": "m0ifIA6ZATmj"
      },
      "source": [
        "# 코드 4-11 : 두 인자의 합을 반환하는 get_sum() 함수와 return 문의 사용1\n",
        "## sum_with_return1.py"
      ]
    },
    {
      "cell_type": "code",
      "metadata": {
        "id": "WQEl_TbJATml",
        "colab": {
          "base_uri": "https://localhost:8080/",
          "height": 53
        },
        "outputId": "adfa18e2-6a93-42a2-8823-9fe3efb8fe02"
      },
      "source": [
        "def get_sum(a, b):       # 두 수의 합을 반환하는 함수\n",
        "    result = a + b    \n",
        "    return result        # return 문을 사용하여 result를 반환\n",
        "\n",
        "n1 = get_sum(10, 20)\n",
        "print('10과 20의 합 =', n1)\n",
        "\n",
        "n2 = get_sum(100, 200)\n",
        "print('100과 200의 합 =', n2)"
      ],
      "execution_count": null,
      "outputs": [
        {
          "output_type": "stream",
          "text": [
            "10과 20의 합 = 30\n",
            "100과 200의 합 = 300\n"
          ],
          "name": "stdout"
        }
      ]
    },
    {
      "cell_type": "markdown",
      "metadata": {
        "id": "HvVLkr7LATms"
      },
      "source": [
        "# 코드 4-12 : 두 인자의 합을 반환하는 get_sum() 함수와 return 문의 사용2\n",
        "## sum_with_return2.py"
      ]
    },
    {
      "cell_type": "code",
      "metadata": {
        "id": "m8nS_Xn7ATmt",
        "colab": {
          "base_uri": "https://localhost:8080/",
          "height": 35
        },
        "outputId": "35087406-da28-4e20-c1a0-0d4d325d0ee0"
      },
      "source": [
        "def get_sum(a, b):\n",
        "    return a + b\n",
        "\n",
        "result = get_sum(100, 200)\n",
        "print('두 수의 합', result)"
      ],
      "execution_count": null,
      "outputs": [
        {
          "output_type": "stream",
          "text": [
            "두 수의 합 300\n"
          ],
          "name": "stdout"
        }
      ]
    },
    {
      "cell_type": "code",
      "metadata": {
        "scrolled": true,
        "id": "oVjsrUy3ATmz",
        "colab": {
          "base_uri": "https://localhost:8080/",
          "height": 35
        },
        "outputId": "d950d14e-ad84-4467-fbf7-bec2bb0408aa"
      },
      "source": [
        "# 아래의 코드 수행 결과는 위와 동일합니다.\n",
        "def get_sum(a, b):    \n",
        "    return a + b    \n",
        "    \n",
        "print('두 수의 합 =', get_sum(100, 200))"
      ],
      "execution_count": null,
      "outputs": [
        {
          "output_type": "stream",
          "text": [
            "두 수의 합 = 300\n"
          ],
          "name": "stdout"
        }
      ]
    },
    {
      "cell_type": "markdown",
      "metadata": {
        "id": "ekv9beaSATni"
      },
      "source": [
        "# 코드 4-13 : 두 개의 값을 튜플로 반환하는 방법과 전달 받는 방법\n",
        "## root_func.py"
      ]
    },
    {
      "cell_type": "code",
      "metadata": {
        "id": "C3_RgNUGATnj",
        "colab": {
          "base_uri": "https://localhost:8080/",
          "height": 35
        },
        "outputId": "acfe6b9c-8869-4eaf-d288-2a5c6b606d3b"
      },
      "source": [
        "def get_root(a, b, c):    \n",
        "    r1 = (-b + (b ** 2 - 4 * a * c) ** 0.5) / (2 * a)    \n",
        "    r2 = (-b - (b ** 2 - 4 * a * c) ** 0.5) / (2 * a)    \n",
        "    return r1, r2\n",
        "\n",
        "# 함수 호출시 인자를 상수 값을 사용함\n",
        "# result1, result2를 이용해서 결과 값을 반환 받아온다\n",
        "result1, result2 = get_root(1, 2, -8)\n",
        "print('해는', result1, '또는', result2)"
      ],
      "execution_count": null,
      "outputs": [
        {
          "output_type": "stream",
          "text": [
            "해는 2.0 또는 -4.0\n"
          ],
          "name": "stdout"
        }
      ]
    },
    {
      "cell_type": "markdown",
      "metadata": {
        "id": "O_ZI9PsrATnv"
      },
      "source": [
        "# 코드 4-14 : 매개변수를 사용하지 않고 외부 변수를 사용하는 경우\n",
        "## sum_func_global1.py "
      ]
    },
    {
      "cell_type": "code",
      "metadata": {
        "id": "eAr8tHGLATnw",
        "colab": {
          "base_uri": "https://localhost:8080/",
          "height": 53
        },
        "outputId": "c34ac8e5-ee29-4f1b-f4c6-eedc32071bd0"
      },
      "source": [
        "def print_sum():\n",
        "    result = a + b\n",
        "    print('print_sum() 내부 :', a, '과', b, '의 합은', result, '입니다.')\n",
        "    \n",
        "a = 10\n",
        "b = 20\n",
        "print_sum()\n",
        "result = a + b\n",
        "print('print_sum() 외부 :', a, '과', b, '의 합은', result, '입니다.')"
      ],
      "execution_count": null,
      "outputs": [
        {
          "output_type": "stream",
          "text": [
            "print_sum() 내부 : 10 과 20 의 합은 30 입니다.\n",
            "print_sum() 외부 : 10 과 20 의 합은 30 입니다.\n"
          ],
          "name": "stdout"
        }
      ]
    },
    {
      "cell_type": "markdown",
      "metadata": {
        "id": "ugUotBeTATn1"
      },
      "source": [
        "# 코드 4-15 : 함수 외부에서 정의된 값을 함수 내부에서 변경하는 경우\n",
        "## sum_func_global2.py"
      ]
    },
    {
      "cell_type": "code",
      "metadata": {
        "id": "YUQsv9B1ATn3",
        "colab": {
          "base_uri": "https://localhost:8080/",
          "height": 35
        },
        "outputId": "ca06bd4f-f009-46ba-b279-4231c36de931"
      },
      "source": [
        "def print_sum():\n",
        "    a = 100\n",
        "    b = 200\n",
        "    result = a + b\n",
        "    print('print_sum() 내부 :', a, '과', b, '의 합은', result, '입니다.')\n",
        "    \n",
        "a = 10\n",
        "b = 20\n",
        "print_sum()"
      ],
      "execution_count": null,
      "outputs": [
        {
          "output_type": "stream",
          "text": [
            "print_sum() 내부 : 100 과 200 의 합은 300 입니다.\n"
          ],
          "name": "stdout"
        }
      ]
    },
    {
      "cell_type": "markdown",
      "metadata": {
        "id": "IVawMt99ATn9"
      },
      "source": [
        "# 코드 4-16 : 함수 내부에서 값을 변경하고, 그 값을 외부에서 확인하기\n",
        "## sum_func_global3.py "
      ]
    },
    {
      "cell_type": "code",
      "metadata": {
        "id": "bfFLSIpmATn-",
        "colab": {
          "base_uri": "https://localhost:8080/",
          "height": 53
        },
        "outputId": "59811c38-b7d0-49df-fc41-07da6b7c555d"
      },
      "source": [
        "def print_sum():\n",
        "    a = 100\n",
        "    b = 200\n",
        "    result = a + b\n",
        "    print('print_sum() 내부 :', a, '과', b, '의 합은', result, '입니다.')\n",
        "    \n",
        "a = 10\n",
        "b = 20\n",
        "print_sum()\n",
        "result = a + b\n",
        "print('print_sum() 외부 :', a, '과', b, '의 합은', result, '입니다.')"
      ],
      "execution_count": null,
      "outputs": [
        {
          "output_type": "stream",
          "text": [
            "print_sum() 내부 : 100 과 200 의 합은 300 입니다.\n",
            "print_sum() 외부 : 10 과 20 의 합은 30 입니다.\n"
          ],
          "name": "stdout"
        }
      ]
    },
    {
      "cell_type": "markdown",
      "metadata": {
        "id": "LgOXPR5fAToF"
      },
      "source": [
        "# 코드 4-17 : global 키워드를 사용한 전역변수의 참조 방법\n",
        "## sum_func_global4.py "
      ]
    },
    {
      "cell_type": "code",
      "metadata": {
        "id": "vmVr03qMAToI",
        "colab": {
          "base_uri": "https://localhost:8080/",
          "height": 53
        },
        "outputId": "6ed22c85-f735-4380-903a-d2ad4d27c702"
      },
      "source": [
        "def print_sum():\n",
        "    global a, b     # a, b는 함수외부에서 선언된 a, b를 사용한다.\n",
        "    a = 100\n",
        "    b = 200\n",
        "    result = a + b\n",
        "    print('print_sum() 내부 :', a, '과', b, '의 합은', result, '입니다.')\n",
        "    \n",
        "a = 10\n",
        "b = 20\n",
        "print_sum()\n",
        "result = a + b\n",
        "print('print_sum() 외부 :', a, '과', b, '의 합은', result, '입니다.')"
      ],
      "execution_count": null,
      "outputs": [
        {
          "output_type": "stream",
          "text": [
            "print_sum() 내부 : 100 과 200 의 합은 300 입니다.\n",
            "print_sum() 외부 : 100 과 200 의 합은 300 입니다.\n"
          ],
          "name": "stdout"
        }
      ]
    },
    {
      "cell_type": "markdown",
      "metadata": {
        "id": "Nqp7FaX1AToO"
      },
      "source": [
        "# 코드 4-18 : 인자를 빠뜨린 호출\n",
        "## print_star_param_error.py"
      ]
    },
    {
      "cell_type": "code",
      "metadata": {
        "id": "oZaviZyVAToQ",
        "colab": {
          "base_uri": "https://localhost:8080/",
          "height": 208
        },
        "outputId": "f5a25b84-8c7a-4bba-8a14-1968dc159490"
      },
      "source": [
        "def print_star(n):      # 인자를 하나 필요로 함\n",
        "    for _ in range(n):\n",
        "        print('************************')\n",
        "        \n",
        "print_star() # 인자가 없으므로 에러 발생"
      ],
      "execution_count": null,
      "outputs": [
        {
          "output_type": "error",
          "ename": "TypeError",
          "evalue": "ignored",
          "traceback": [
            "\u001b[0;31m---------------------------------------------------------------------------\u001b[0m",
            "\u001b[0;31mTypeError\u001b[0m                                 Traceback (most recent call last)",
            "\u001b[0;32m<ipython-input-109-6d1876493ea4>\u001b[0m in \u001b[0;36m<module>\u001b[0;34m()\u001b[0m\n\u001b[1;32m      3\u001b[0m         \u001b[0mprint\u001b[0m\u001b[0;34m(\u001b[0m\u001b[0;34m'************************'\u001b[0m\u001b[0;34m)\u001b[0m\u001b[0;34m\u001b[0m\u001b[0;34m\u001b[0m\u001b[0m\n\u001b[1;32m      4\u001b[0m \u001b[0;34m\u001b[0m\u001b[0m\n\u001b[0;32m----> 5\u001b[0;31m \u001b[0mprint_star\u001b[0m\u001b[0;34m(\u001b[0m\u001b[0;34m)\u001b[0m \u001b[0;31m# 인자가 없으므로 에러 발생\u001b[0m\u001b[0;34m\u001b[0m\u001b[0;34m\u001b[0m\u001b[0m\n\u001b[0m",
            "\u001b[0;31mTypeError\u001b[0m: print_star() missing 1 required positional argument: 'n'"
          ]
        }
      ]
    },
    {
      "cell_type": "markdown",
      "metadata": {
        "id": "Z3CBIHsrAToa"
      },
      "source": [
        "# 코드 4-19 : 디폴트 값을 가지는 print_star() 함수\n",
        "## print_default_param.py"
      ]
    },
    {
      "cell_type": "code",
      "metadata": {
        "id": "kb4N3ZC0ATod",
        "colab": {
          "base_uri": "https://localhost:8080/",
          "height": 35
        },
        "outputId": "f2a577a0-6643-47cf-af5e-beb84479afaa"
      },
      "source": [
        "def print_star(n = 1):  # 매개변수 n은 디폴트 값 1을 가짐\n",
        "    for _ in range(n):\n",
        "        print('************************')\n",
        "        \n",
        "print_star() # 인자가 없더라도 에러 없이 수행됨"
      ],
      "execution_count": null,
      "outputs": [
        {
          "output_type": "stream",
          "text": [
            "************************\n"
          ],
          "name": "stdout"
        }
      ]
    },
    {
      "cell_type": "code",
      "metadata": {
        "id": "5aTntNVWAToi",
        "colab": {
          "base_uri": "https://localhost:8080/",
          "height": 53
        },
        "outputId": "a54c121e-b05f-4d7d-99d7-620ca7667472"
      },
      "source": [
        "def print_star(n = 1):  # 디폴트 매개변수로 1을 가짐\n",
        "    for _ in range(n):\n",
        "        print('************************')\n",
        "        \n",
        "print_star(2)  # 인자 값이 2이므로 디폴트 매개변수 n = 1은 수행되지 않음"
      ],
      "execution_count": null,
      "outputs": [
        {
          "output_type": "stream",
          "text": [
            "************************\n",
            "************************\n"
          ],
          "name": "stdout"
        }
      ]
    },
    {
      "cell_type": "markdown",
      "metadata": {
        "id": "e_EAeVMTATor"
      },
      "source": [
        "# 코드 4-20 : 디폴트 인자를 1개 사용한 div() 함수\n",
        "## default_param1.py"
      ]
    },
    {
      "cell_type": "code",
      "metadata": {
        "scrolled": true,
        "id": "QJMz--JLATos",
        "colab": {
          "base_uri": "https://localhost:8080/",
          "height": 53
        },
        "outputId": "fd4e2534-d0bc-4f6a-f223-60d1f6e10051"
      },
      "source": [
        "def div(a, b = 2):\n",
        "    return a / b\n",
        "\n",
        "print('div(4) =', div(4))\n",
        "print('div(6, 3) =', div(6, 3))"
      ],
      "execution_count": null,
      "outputs": [
        {
          "output_type": "stream",
          "text": [
            "div(4) = 2.0\n",
            "div(6, 3) = 2.0\n"
          ],
          "name": "stdout"
        }
      ]
    },
    {
      "cell_type": "code",
      "metadata": {
        "id": "XX3PgnAdGxje",
        "colab": {
          "base_uri": "https://localhost:8080/",
          "height": 136
        },
        "outputId": "4d15fdd3-910c-485f-de06-6d8a14849e3a"
      },
      "source": [
        "def div(a = 2, b):\n",
        "    return a / b"
      ],
      "execution_count": null,
      "outputs": [
        {
          "output_type": "error",
          "ename": "SyntaxError",
          "evalue": "ignored",
          "traceback": [
            "\u001b[0;36m  File \u001b[0;32m\"<ipython-input-113-48c2fea5df1e>\"\u001b[0;36m, line \u001b[0;32m1\u001b[0m\n\u001b[0;31m    def div(a = 2, b):\u001b[0m\n\u001b[0m           ^\u001b[0m\n\u001b[0;31mSyntaxError\u001b[0m\u001b[0;31m:\u001b[0m non-default argument follows default argument\n"
          ]
        }
      ]
    },
    {
      "cell_type": "markdown",
      "metadata": {
        "id": "XGu3iktcATox"
      },
      "source": [
        "# 코드 4-21 : 매개변수에 디폴트 값을 2개 사용한 div() 함수\n",
        "## default_param2.py"
      ]
    },
    {
      "cell_type": "code",
      "metadata": {
        "id": "3WOKJdeoAToy",
        "colab": {
          "base_uri": "https://localhost:8080/",
          "height": 71
        },
        "outputId": "36f3f547-8d07-4339-fe39-d4414d97eff1"
      },
      "source": [
        "def div(a = 1, b = 2):\n",
        "    return a / b\n",
        "\n",
        "print('div() =',div())\n",
        "print('div(4) =',div(4))\n",
        "print('div(6, 3) =',div(6, 3))"
      ],
      "execution_count": null,
      "outputs": [
        {
          "output_type": "stream",
          "text": [
            "div() = 0.5\n",
            "div(4) = 2.0\n",
            "div(6, 3) = 2.0\n"
          ],
          "name": "stdout"
        }
      ]
    },
    {
      "cell_type": "markdown",
      "metadata": {
        "id": "s9JeV3mkATo2"
      },
      "source": [
        "# 코드 4-22 : 2차 방정식의 근을 구하는 함수와 함수 호출문\n",
        "## root_func.py"
      ]
    },
    {
      "cell_type": "code",
      "metadata": {
        "id": "4mXt9w_pATo3",
        "colab": {
          "base_uri": "https://localhost:8080/",
          "height": 35
        },
        "outputId": "5b93404f-8034-4b97-a6e3-fc75df692871"
      },
      "source": [
        "def get_root(a, b, c):\n",
        "    r1 = (-b + (b ** 2 - 4 * a * c) ** 0.5) / (2 * a)\n",
        "    r2 = (-b - (b ** 2 - 4 * a * c) ** 0.5) / (2 * a)\n",
        "    return r1, r2\n",
        "\n",
        "# 함수 호출시 인자를 상수 값을 사용함.\n",
        "# result1, result2를 이용해서 결과 값을 반환 받아온다.\n",
        "result1, result2 = get_root(1, 2, -8)\n",
        "print('해는', result1, '또는', result2)"
      ],
      "execution_count": null,
      "outputs": [
        {
          "output_type": "stream",
          "text": [
            "해는 2.0 또는 -4.0\n"
          ],
          "name": "stdout"
        }
      ]
    },
    {
      "cell_type": "code",
      "metadata": {
        "id": "8zn9JnkeGCIX",
        "colab": {
          "base_uri": "https://localhost:8080/",
          "height": 35
        },
        "outputId": "0816f844-520f-45a4-c175-b8f90263b8ad"
      },
      "source": [
        "result1, result2 = get_root(-8, 2, 1)\n",
        "print('해는', result1, '또는', result2)"
      ],
      "execution_count": null,
      "outputs": [
        {
          "output_type": "stream",
          "text": [
            "해는 -0.25 또는 0.5\n"
          ],
          "name": "stdout"
        }
      ]
    },
    {
      "cell_type": "code",
      "metadata": {
        "id": "qJF-qQuxATo-",
        "colab": {
          "base_uri": "https://localhost:8080/",
          "height": 35
        },
        "outputId": "d2ab735d-4f57-4bee-d295-3afacef0d8c1"
      },
      "source": [
        "# 아래 세 코드 모두 a는 1, b는 2, c는 -8이라 결과는 동일함\n",
        "result1, result2 = get_root(a = 1, b = 2, c = -8)\n",
        "print('해는', result1, '또는', result2)"
      ],
      "execution_count": null,
      "outputs": [
        {
          "output_type": "stream",
          "text": [
            "해는 2.0 또는 -4.0\n"
          ],
          "name": "stdout"
        }
      ]
    },
    {
      "cell_type": "code",
      "metadata": {
        "scrolled": true,
        "id": "D8tAvNXEATpD",
        "colab": {
          "base_uri": "https://localhost:8080/",
          "height": 35
        },
        "outputId": "bce9e93e-c6a3-472d-dd5e-d1b87bd98994"
      },
      "source": [
        "result1, result2 = get_root(a = 1, c = -8, b = 2)\n",
        "print('해는', result1, '또는', result2)"
      ],
      "execution_count": null,
      "outputs": [
        {
          "output_type": "stream",
          "text": [
            "해는 2.0 또는 -4.0\n"
          ],
          "name": "stdout"
        }
      ]
    },
    {
      "cell_type": "code",
      "metadata": {
        "id": "B4gZUDhaATpI",
        "colab": {
          "base_uri": "https://localhost:8080/",
          "height": 35
        },
        "outputId": "4d7ac6f6-d688-49e3-ebc1-12f5b72813c4"
      },
      "source": [
        "result1, result2 = get_root(c = -8, b = 2, a = 1)\n",
        "print('해는', result1, '또는', result2)"
      ],
      "execution_count": null,
      "outputs": [
        {
          "output_type": "stream",
          "text": [
            "해는 2.0 또는 -4.0\n"
          ],
          "name": "stdout"
        }
      ]
    },
    {
      "cell_type": "code",
      "metadata": {
        "scrolled": true,
        "id": "Fr0EV8X_ATpN",
        "colab": {
          "base_uri": "https://localhost:8080/",
          "height": 136
        },
        "outputId": "017ebf99-4491-46cb-a157-2494334f34fa"
      },
      "source": [
        "# 다음과 같이 할 경우 오류가 발생됨\n",
        "result1, result2 = get_root(c = -8, b = 2, 1)\n",
        "print('해는', result1, '또는', result2)"
      ],
      "execution_count": null,
      "outputs": [
        {
          "output_type": "error",
          "ename": "SyntaxError",
          "evalue": "ignored",
          "traceback": [
            "\u001b[0;36m  File \u001b[0;32m\"<ipython-input-12-10cbe8ea4613>\"\u001b[0;36m, line \u001b[0;32m1\u001b[0m\n\u001b[0;31m    result1, result2 = get_root(c = -8, b = 2, 1)\u001b[0m\n\u001b[0m                                              ^\u001b[0m\n\u001b[0;31mSyntaxError\u001b[0m\u001b[0;31m:\u001b[0m positional argument follows keyword argument\n"
          ]
        }
      ]
    },
    {
      "cell_type": "code",
      "metadata": {
        "scrolled": false,
        "id": "dJFjGBrNATpS",
        "colab": {
          "base_uri": "https://localhost:8080/",
          "height": 136
        },
        "outputId": "4a4413ef-efa6-4069-f246-63f8ad2ce6cb"
      },
      "source": [
        "result1, result2 = get_root(c = -8, 2, 1)\n",
        "print('해는', result1, '또는', result2)"
      ],
      "execution_count": null,
      "outputs": [
        {
          "output_type": "error",
          "ename": "SyntaxError",
          "evalue": "ignored",
          "traceback": [
            "\u001b[0;36m  File \u001b[0;32m\"<ipython-input-36-aeba582238e5>\"\u001b[0;36m, line \u001b[0;32m1\u001b[0m\n\u001b[0;31m    result1, result2 = get_root(c = -8, 2, 1)\u001b[0m\n\u001b[0m                                       ^\u001b[0m\n\u001b[0;31mSyntaxError\u001b[0m\u001b[0;31m:\u001b[0m positional argument follows keyword argument\n"
          ]
        }
      ]
    },
    {
      "cell_type": "code",
      "metadata": {
        "id": "qBY-IxzOATpW",
        "colab": {
          "base_uri": "https://localhost:8080/",
          "height": 35
        },
        "outputId": "7ec6a4de-7e39-42d7-fb20-ff27e34eedb2"
      },
      "source": [
        "result1, result2 = get_root(1, 2, c = -8)\n",
        "print('해는', result1, '또는', result2)"
      ],
      "execution_count": null,
      "outputs": [
        {
          "output_type": "stream",
          "text": [
            "해는 2.0 또는 -4.0\n"
          ],
          "name": "stdout"
        }
      ]
    },
    {
      "cell_type": "code",
      "metadata": {
        "scrolled": false,
        "id": "S18Y4j7YATpb",
        "colab": {
          "base_uri": "https://localhost:8080/",
          "height": 190
        },
        "outputId": "96a4031d-7936-4936-86c7-08c0af70ea23"
      },
      "source": [
        "result1, result2 = get_root(1, -8, b = 2)\n",
        "print('해는', result1, '또는', result2)"
      ],
      "execution_count": null,
      "outputs": [
        {
          "output_type": "error",
          "ename": "TypeError",
          "evalue": "ignored",
          "traceback": [
            "\u001b[0;31m---------------------------------------------------------------------------\u001b[0m",
            "\u001b[0;31mTypeError\u001b[0m                                 Traceback (most recent call last)",
            "\u001b[0;32m<ipython-input-37-04ab2a9ba25f>\u001b[0m in \u001b[0;36m<module>\u001b[0;34m()\u001b[0m\n\u001b[0;32m----> 1\u001b[0;31m \u001b[0mresult1\u001b[0m\u001b[0;34m,\u001b[0m \u001b[0mresult2\u001b[0m \u001b[0;34m=\u001b[0m \u001b[0mget_root\u001b[0m\u001b[0;34m(\u001b[0m\u001b[0;36m1\u001b[0m\u001b[0;34m,\u001b[0m \u001b[0;34m-\u001b[0m\u001b[0;36m8\u001b[0m\u001b[0;34m,\u001b[0m \u001b[0mb\u001b[0m \u001b[0;34m=\u001b[0m \u001b[0;36m2\u001b[0m\u001b[0;34m)\u001b[0m\u001b[0;34m\u001b[0m\u001b[0;34m\u001b[0m\u001b[0m\n\u001b[0m\u001b[1;32m      2\u001b[0m \u001b[0mprint\u001b[0m\u001b[0;34m(\u001b[0m\u001b[0;34m'해는'\u001b[0m\u001b[0;34m,\u001b[0m \u001b[0mresult1\u001b[0m\u001b[0;34m,\u001b[0m \u001b[0;34m'또는'\u001b[0m\u001b[0;34m,\u001b[0m \u001b[0mresult2\u001b[0m\u001b[0;34m)\u001b[0m\u001b[0;34m\u001b[0m\u001b[0;34m\u001b[0m\u001b[0m\n",
            "\u001b[0;31mTypeError\u001b[0m: get_root() got multiple values for argument 'b'"
          ]
        }
      ]
    },
    {
      "cell_type": "code",
      "metadata": {
        "id": "DTsXj6vWq13x",
        "colab": {
          "base_uri": "https://localhost:8080/",
          "height": 35
        },
        "outputId": "ddf166ba-97e2-4335-f64c-9b5470c26e12"
      },
      "source": [
        "def func(a, b, c) :\n",
        "    print(a, b, c) \n",
        "\n",
        "func(1, 2, 3) "
      ],
      "execution_count": null,
      "outputs": [
        {
          "output_type": "stream",
          "text": [
            "1 2 3\n"
          ],
          "name": "stdout"
        }
      ]
    },
    {
      "cell_type": "code",
      "metadata": {
        "id": "5XKER3X5q9RR",
        "colab": {
          "base_uri": "https://localhost:8080/",
          "height": 35
        },
        "outputId": "66942977-29c3-422e-99b6-abc7f0e0bbe3"
      },
      "source": [
        "func(1, c=2, b=3) "
      ],
      "execution_count": null,
      "outputs": [
        {
          "output_type": "stream",
          "text": [
            "1 3 2\n"
          ],
          "name": "stdout"
        }
      ]
    },
    {
      "cell_type": "code",
      "metadata": {
        "id": "hLAk6bQMq_Xp",
        "colab": {
          "base_uri": "https://localhost:8080/",
          "height": 136
        },
        "outputId": "08b3be9d-d558-4405-908e-3fddd43fb8e1"
      },
      "source": [
        " # 키워드 인자 b 다음에 위치 인자 3을 두면 안됨\n",
        " # 에러 발생\n",
        " func(1, b=2, 3) "
      ],
      "execution_count": null,
      "outputs": [
        {
          "output_type": "error",
          "ename": "SyntaxError",
          "evalue": "ignored",
          "traceback": [
            "\u001b[0;36m  File \u001b[0;32m\"<ipython-input-16-db0609c7e738>\"\u001b[0;36m, line \u001b[0;32m1\u001b[0m\n\u001b[0;31m    func(1, b=2, 3)\u001b[0m\n\u001b[0m                ^\u001b[0m\n\u001b[0;31mSyntaxError\u001b[0m\u001b[0;31m:\u001b[0m positional argument follows keyword argument\n"
          ]
        }
      ]
    },
    {
      "cell_type": "markdown",
      "metadata": {
        "id": "Csy5eGYb6mVu"
      },
      "source": [
        "## 코드 4-23 : 직사각형과 원의 면적을 구하는 함수의 구현\n",
        "### areas_of_shapes.py"
      ]
    },
    {
      "cell_type": "code",
      "metadata": {
        "id": "oB0tFFJf6p02",
        "colab": {
          "base_uri": "https://localhost:8080/",
          "height": 54
        },
        "outputId": "24066c0c-3302-4556-f6ea-edb9292e8b38"
      },
      "source": [
        "def func(shape, width=1, height=1, radius=1):\n",
        "    if shape == 0 : # shape 값이 0이면 사각형의 면적을 반환\n",
        "        return width * height\n",
        "    if shape == 1 : # shape 값이 1이면 원의 면적을 반환\n",
        "        return 3.14 * radius ** 2\n",
        "\n",
        "print(\"rect area =\", func(0, width=10, height=2))\n",
        "print(\"circle area =\", func(1, radius=5))"
      ],
      "execution_count": null,
      "outputs": [
        {
          "output_type": "stream",
          "text": [
            "rect area = 20\n",
            "circle area = 78.5\n"
          ],
          "name": "stdout"
        }
      ]
    },
    {
      "cell_type": "markdown",
      "metadata": {
        "id": "58nAxieO6ypr"
      },
      "source": [
        "### 주의!!!"
      ]
    },
    {
      "cell_type": "code",
      "metadata": {
        "id": "QjGuuJpb600H",
        "colab": {
          "base_uri": "https://localhost:8080/",
          "height": 35
        },
        "outputId": "81537217-1b0e-4b45-8833-38b902e90367"
      },
      "source": [
        "print(\"rect area =\", func(0, radius=5))"
      ],
      "execution_count": null,
      "outputs": [
        {
          "output_type": "stream",
          "text": [
            "rect area = 1\n"
          ],
          "name": "stdout"
        }
      ]
    },
    {
      "cell_type": "markdown",
      "metadata": {
        "id": "Y_1hwLvjATpg"
      },
      "source": [
        "# 코드 4-24 : 인자를 하나 가지는 함수\n",
        "## arg_greet1.py"
      ]
    },
    {
      "cell_type": "code",
      "metadata": {
        "id": "UDBKdOGbATpg",
        "colab": {
          "base_uri": "https://localhost:8080/",
          "height": 35
        },
        "outputId": "1910294c-8219-4b94-aec8-86c0bd3f4a12"
      },
      "source": [
        "def greet1(name):\n",
        "    print('안녕하세요', name, '씨')\n",
        "    \n",
        "greet1('홍길동')"
      ],
      "execution_count": null,
      "outputs": [
        {
          "output_type": "stream",
          "text": [
            "안녕하세요 홍길동 씨\n"
          ],
          "name": "stdout"
        }
      ]
    },
    {
      "cell_type": "markdown",
      "metadata": {
        "id": "-k1VPn3EATpo"
      },
      "source": [
        "# 코드 4-25 : 인자를 2개 가지는 함수\n",
        "## arg_greet2.py"
      ]
    },
    {
      "cell_type": "code",
      "metadata": {
        "id": "gMTsRDU4ATpp",
        "colab": {
          "base_uri": "https://localhost:8080/",
          "height": 53
        },
        "outputId": "a4856fc6-9e6e-4b01-85e5-6a2687427a0c"
      },
      "source": [
        "def greet2(name1, name2):\n",
        "    print('안녕하세요', name1, '씨')\n",
        "    print('안녕하세요', name2, '씨')\n",
        "    \n",
        "greet2('홍길동','홍길순')"
      ],
      "execution_count": null,
      "outputs": [
        {
          "output_type": "stream",
          "text": [
            "안녕하세요 홍길동 씨\n",
            "안녕하세요 홍길순 씨\n"
          ],
          "name": "stdout"
        }
      ]
    },
    {
      "cell_type": "code",
      "metadata": {
        "id": "-B4xcEnQAvlz",
        "colab": {
          "base_uri": "https://localhost:8080/",
          "height": 73
        },
        "outputId": "a0787438-4105-4975-f2ba-3263baa6823e"
      },
      "source": [
        "def greet3(name1, name2, name3):\n",
        "    print('안녕하세요', name1, '씨')\n",
        "    print('안녕하세요', name2, '씨')\n",
        "    print('안녕하세요', name3, '씨')\n",
        "    \n",
        "greet3('홍길동','홍길순','박동규')"
      ],
      "execution_count": null,
      "outputs": [
        {
          "output_type": "stream",
          "text": [
            "안녕하세요 홍길동 씨\n",
            "안녕하세요 홍길순 씨\n",
            "안녕하세요 박동규 씨\n"
          ],
          "name": "stdout"
        }
      ]
    },
    {
      "cell_type": "markdown",
      "metadata": {
        "id": "66g6efj6ATpt"
      },
      "source": [
        "# 코드 4-26 : 가변 인자를 가지는 함수의 정의와 호출\n",
        "## arg_greet.py"
      ]
    },
    {
      "cell_type": "code",
      "metadata": {
        "id": "VH87GgWoATpx",
        "colab": {
          "base_uri": "https://localhost:8080/",
          "height": 107
        },
        "outputId": "b35dc33e-f52e-4593-c209-9c73729174a5"
      },
      "source": [
        "def greet(*names):\n",
        "   for name in names:\n",
        "       print('안녕하세요', name, '씨')\n",
        "   \n",
        "greet('홍길동', '양만춘', '이순신') # 인자가 3개\n",
        "greet('James', 'Thomas') # 인자가 2개"
      ],
      "execution_count": null,
      "outputs": [
        {
          "output_type": "stream",
          "text": [
            "안녕하세요 홍길동 씨\n",
            "안녕하세요 양만춘 씨\n",
            "안녕하세요 이순신 씨\n",
            "안녕하세요 James 씨\n",
            "안녕하세요 Thomas 씨\n"
          ],
          "name": "stdout"
        }
      ]
    },
    {
      "cell_type": "markdown",
      "metadata": {
        "id": "xh48i_E4ATp_"
      },
      "source": [
        "# 코드 4-27 : 가변 인자를 가지는 함수에서 len() 함수 활용\n",
        "## arg_foo.py"
      ]
    },
    {
      "cell_type": "code",
      "metadata": {
        "id": "oVekmxOYATqA",
        "colab": {
          "base_uri": "https://localhost:8080/",
          "height": 53
        },
        "outputId": "99b4ee10-c13b-45fc-e65b-c89dfe0bceae"
      },
      "source": [
        "def foo(*args):\n",
        "    print('인자의 개수:', len(args))\n",
        "    print('인자들 :', args)\n",
        "    \n",
        "foo(10, 20, 30)"
      ],
      "execution_count": null,
      "outputs": [
        {
          "output_type": "stream",
          "text": [
            "인자의 개수: 3\n",
            "인자들 : (10, 20, 30)\n"
          ],
          "name": "stdout"
        }
      ]
    },
    {
      "cell_type": "markdown",
      "metadata": {
        "id": "zBl9WBN6ATqD"
      },
      "source": [
        "# 코드 4-28 : 가변 인자를 가지는 함수를 이용한 합계 구하기\n",
        "## arg_sum_nums.py"
      ]
    },
    {
      "cell_type": "code",
      "metadata": {
        "id": "mV5o013vATqE",
        "colab": {
          "base_uri": "https://localhost:8080/",
          "height": 53
        },
        "outputId": "57ee08c6-c7fc-4ff4-956f-a65213eb37e6"
      },
      "source": [
        "def sum_nums(*numbers):\n",
        "    result = 0\n",
        "    for n in numbers:\n",
        "        result += n\n",
        "    return result\n",
        "\n",
        "print(sum_nums(10, 20, 30))          # 10, 20, 30 인자들의 합을 출력\n",
        "print(sum_nums(10, 20, 30, 40, 50))  # 10, 20, 30, 40, 50 인자들의 합을 출력"
      ],
      "execution_count": null,
      "outputs": [
        {
          "output_type": "stream",
          "text": [
            "60\n",
            "150\n"
          ],
          "name": "stdout"
        }
      ]
    },
    {
      "cell_type": "code",
      "metadata": {
        "id": "6jB8O6FmATqI",
        "colab": {
          "base_uri": "https://localhost:8080/",
          "height": 53
        },
        "outputId": "4dda9bea-ac01-40a6-f6a9-afcd05163061"
      },
      "source": [
        "# 위의 코드를 살짝 변경하여 인자의 갯수를 출력해 볼 수 있다.\n",
        "def get_len(*numbers):\n",
        "    print('{} 개의 인자'.format(len(numbers)))\n",
        " \n",
        "get_len(10, 20, 30) # 인자들의 개수를 출력\n",
        "get_len(10, 20, 30, 40, 50)"
      ],
      "execution_count": null,
      "outputs": [
        {
          "output_type": "stream",
          "text": [
            "3 개의 인자\n",
            "5 개의 인자\n"
          ],
          "name": "stdout"
        }
      ]
    },
    {
      "cell_type": "markdown",
      "metadata": {
        "id": "m_NIRGiu2-pK"
      },
      "source": [
        "# 코드 4-29 : 재귀함수를 이용하여 정의한 팩토리얼\n",
        "## factorial_recursion.py"
      ]
    },
    {
      "cell_type": "code",
      "metadata": {
        "id": "7LTfTq4N3DHr",
        "colab": {
          "base_uri": "https://localhost:8080/",
          "height": 35
        },
        "outputId": "0d681e2c-9445-443c-fce6-e68dda91495b"
      },
      "source": [
        "def factorial(n):    # n!의 재귀적 구현\n",
        "    if n <= 1 :      # 종료조건이 반드시 필요하다\n",
        "        return 1\n",
        "    else :\n",
        "        return n * factorial(n-1)     # n * (n-1)! 정의에 따른 구현\n",
        " \n",
        "n = 5\n",
        "print('{}! = {}'.format(n, factorial(n)))"
      ],
      "execution_count": null,
      "outputs": [
        {
          "output_type": "stream",
          "text": [
            "5! = 120\n"
          ],
          "name": "stdout"
        }
      ]
    },
    {
      "cell_type": "markdown",
      "metadata": {
        "id": "EA8RFG4v3I8x"
      },
      "source": [
        "# 코드 4-30 : 재귀함수를 이용하여 정의한 피보나치 수열\n",
        "## fibonacci_recursion.py"
      ]
    },
    {
      "cell_type": "code",
      "metadata": {
        "id": "3YNkYn2B26aL",
        "colab": {
          "base_uri": "https://localhost:8080/",
          "height": 53
        },
        "outputId": "3285abfe-ac64-4854-c929-05fb3bd11b19"
      },
      "source": [
        "def fibonacci(n):      # 피보나치 함수의 재귀적 구현\n",
        "   if n <= 1:          # 피보나치 함수의 종료조건\n",
        "       return n  \n",
        "   else:  \n",
        "       return(fibonacci(n-1) + fibonacci(n-2))   # F_n = F_(n-1) + F_(n-2)\n",
        "\n",
        "nterms = int(input(\"몇 개의 피보나치수를 원하세요? \"))  \n",
        "\n",
        "# 음수일 경우 피보나치 수를 구할 수 없음.\n",
        "if nterms <= 0:  \n",
        "   print(\"오류 : 양수를 입력하세요.\")  \n",
        "else:  \n",
        "   print(\"Fibonacci 수열: \", end = '')  \n",
        "   for i in range(nterms):  \n",
        "       print(fibonacci(i), end=' ') "
      ],
      "execution_count": null,
      "outputs": [
        {
          "output_type": "stream",
          "text": [
            "몇 개의 피보나치수를 원하세요? 10\n",
            "Fibonacci 수열: 0 1 1 2 3 5 8 13 21 34 "
          ],
          "name": "stdout"
        }
      ]
    },
    {
      "cell_type": "markdown",
      "metadata": {
        "id": "23C99xUHATqR"
      },
      "source": [
        "# 코드 4-31 : input 입력함수를 사용한 name의 입력 방법\n",
        "## input_name1.py"
      ]
    },
    {
      "cell_type": "code",
      "metadata": {
        "scrolled": false,
        "id": "zKVoBWV0ATqT",
        "colab": {
          "base_uri": "https://localhost:8080/",
          "height": 72
        },
        "outputId": "9491b68f-4a42-43ed-eeba-ae131ba2f6d8"
      },
      "source": [
        "print('Enter your name : ')\n",
        "name = input()    # 사용자의 키보드 입력 값을 name이 참조함\n",
        "print('Hello', name, '!')"
      ],
      "execution_count": null,
      "outputs": [
        {
          "output_type": "stream",
          "text": [
            "Enter your name : \n",
            "Hong GilDong\n",
            "Hello Hong GilDong !\n"
          ],
          "name": "stdout"
        }
      ]
    },
    {
      "cell_type": "markdown",
      "metadata": {
        "id": "xWvQZRmWATqW"
      },
      "source": [
        "# 코드 4-32 : 문자열을 이용한 input 입력함수의 사용법\n",
        "## input_name2.py"
      ]
    },
    {
      "cell_type": "code",
      "metadata": {
        "id": "gWykcs9xATqX",
        "colab": {
          "base_uri": "https://localhost:8080/",
          "height": 53
        },
        "outputId": "f7d1c524-57b3-4e06-df34-95b67ea0cd7f"
      },
      "source": [
        "name = input('Enter your name : ')\n",
        "print('Hello', name, '!')"
      ],
      "execution_count": null,
      "outputs": [
        {
          "output_type": "stream",
          "text": [
            "Enter your name : Hong GilDong\n",
            "Hello Hong GilDong !\n"
          ],
          "name": "stdout"
        }
      ]
    },
    {
      "cell_type": "code",
      "metadata": {
        "id": "xaIoNobcG-Fm",
        "colab": {
          "base_uri": "https://localhost:8080/",
          "height": 55
        },
        "outputId": "8c6541af-a45d-4a3e-84df-8e89f79c3af7"
      },
      "source": [
        "name = input('Enter your name : ')\n",
        "print('Hello', name, '!')"
      ],
      "execution_count": null,
      "outputs": [
        {
          "output_type": "stream",
          "text": [
            "Enter your name : 홍길동\n",
            "Hello 홍길동 !\n"
          ],
          "name": "stdout"
        }
      ]
    },
    {
      "cell_type": "markdown",
      "metadata": {
        "id": "XLiUccPfATqb"
      },
      "source": [
        "## 대화창 실습 : 정수형과 문자열형의 덧셈, 서로 다른 자료형의 덧셈"
      ]
    },
    {
      "cell_type": "code",
      "metadata": {
        "id": "lW0P7HQ6ATqc",
        "colab": {
          "base_uri": "https://localhost:8080/",
          "height": 35
        },
        "outputId": "e6d6e606-aa66-4953-d3b5-dfcb7bbdd7e9"
      },
      "source": [
        "100 + 1     # 정수의 덧셈"
      ],
      "execution_count": null,
      "outputs": [
        {
          "output_type": "execute_result",
          "data": {
            "text/plain": [
              "101"
            ]
          },
          "metadata": {
            "tags": []
          },
          "execution_count": 54
        }
      ]
    },
    {
      "cell_type": "code",
      "metadata": {
        "id": "obNZ7hjqATqg",
        "colab": {
          "base_uri": "https://localhost:8080/",
          "height": 35
        },
        "outputId": "c7f190c6-b72d-4c97-b4c1-161550071083"
      },
      "source": [
        "'100' + '1' # 문자열의 덧셈"
      ],
      "execution_count": null,
      "outputs": [
        {
          "output_type": "execute_result",
          "data": {
            "text/plain": [
              "'1001'"
            ]
          },
          "metadata": {
            "tags": []
          },
          "execution_count": 55
        }
      ]
    },
    {
      "cell_type": "code",
      "metadata": {
        "scrolled": true,
        "id": "T8i_iG6QATqo",
        "colab": {
          "base_uri": "https://localhost:8080/",
          "height": 172
        },
        "outputId": "4d1bf730-aae5-4d16-e4ed-b393f5dd5b0b"
      },
      "source": [
        "'100' + 1   # 문자열과 정수의 덧셈"
      ],
      "execution_count": null,
      "outputs": [
        {
          "output_type": "error",
          "ename": "TypeError",
          "evalue": "ignored",
          "traceback": [
            "\u001b[0;31m---------------------------------------------------------------------------\u001b[0m",
            "\u001b[0;31mTypeError\u001b[0m                                 Traceback (most recent call last)",
            "\u001b[0;32m<ipython-input-56-6319bb9dfb3c>\u001b[0m in \u001b[0;36m<module>\u001b[0;34m()\u001b[0m\n\u001b[0;32m----> 1\u001b[0;31m \u001b[0;34m'100'\u001b[0m \u001b[0;34m+\u001b[0m \u001b[0;36m1\u001b[0m   \u001b[0;31m# 문자열과 정수의 덧셈\u001b[0m\u001b[0;34m\u001b[0m\u001b[0;34m\u001b[0m\u001b[0m\n\u001b[0m",
            "\u001b[0;31mTypeError\u001b[0m: must be str, not int"
          ]
        }
      ]
    },
    {
      "cell_type": "markdown",
      "metadata": {
        "id": "Qy52Jrc4ATqt"
      },
      "source": [
        "## 대화창 실습 : int 함수와 float 함수를 이용한 문자열의 변환"
      ]
    },
    {
      "cell_type": "code",
      "metadata": {
        "id": "fT9esxRfATqu",
        "colab": {
          "base_uri": "https://localhost:8080/",
          "height": 35
        },
        "outputId": "8562d850-a900-40a0-8c23-dc3ee5f3c6ce"
      },
      "source": [
        "int('100') + 1"
      ],
      "execution_count": null,
      "outputs": [
        {
          "output_type": "execute_result",
          "data": {
            "text/plain": [
              "101"
            ]
          },
          "metadata": {
            "tags": []
          },
          "execution_count": 57
        }
      ]
    },
    {
      "cell_type": "code",
      "metadata": {
        "scrolled": true,
        "id": "L6wo_q58ATqy",
        "colab": {
          "base_uri": "https://localhost:8080/",
          "height": 35
        },
        "outputId": "236d0f1b-519e-435e-f4ab-4c8d7ae48adc"
      },
      "source": [
        "float('100') + 1"
      ],
      "execution_count": null,
      "outputs": [
        {
          "output_type": "execute_result",
          "data": {
            "text/plain": [
              "101.0"
            ]
          },
          "metadata": {
            "tags": []
          },
          "execution_count": 58
        }
      ]
    },
    {
      "cell_type": "code",
      "metadata": {
        "id": "Ky5CdghtKJuz",
        "colab": {
          "base_uri": "https://localhost:8080/",
          "height": 35
        },
        "outputId": "b0a8ab3b-e3ff-4bfc-f89a-ff7cc066f7a0"
      },
      "source": [
        "'100' + str(1)"
      ],
      "execution_count": null,
      "outputs": [
        {
          "output_type": "execute_result",
          "data": {
            "text/plain": [
              "'1001'"
            ]
          },
          "metadata": {
            "tags": []
          },
          "execution_count": 59
        }
      ]
    },
    {
      "cell_type": "markdown",
      "metadata": {
        "id": "uBAooINVATq1"
      },
      "source": [
        "## 대화창 실습 : 대화형 모드를 통한 input()과 int() 함수"
      ]
    },
    {
      "cell_type": "code",
      "metadata": {
        "id": "BwFL1LWYATq2",
        "colab": {
          "base_uri": "https://localhost:8080/",
          "height": 35
        },
        "outputId": "0caed137-201a-4f2e-82c7-56c63a90e19b"
      },
      "source": [
        "num1 = int(input(\"숫자를 입력하세요: \"))"
      ],
      "execution_count": null,
      "outputs": [
        {
          "output_type": "stream",
          "text": [
            "숫자를 입력하세요: 100\n"
          ],
          "name": "stdout"
        }
      ]
    },
    {
      "cell_type": "code",
      "metadata": {
        "id": "WYsRhc94ATq5",
        "colab": {
          "base_uri": "https://localhost:8080/",
          "height": 35
        },
        "outputId": "85361117-9647-405c-951e-a79a095aac06"
      },
      "source": [
        "num2 = int(input(\"숫자를 입력하세요: \"))"
      ],
      "execution_count": null,
      "outputs": [
        {
          "output_type": "stream",
          "text": [
            "숫자를 입력하세요: 200\n"
          ],
          "name": "stdout"
        }
      ]
    },
    {
      "cell_type": "code",
      "metadata": {
        "id": "xIrsRKXdATq8",
        "colab": {
          "base_uri": "https://localhost:8080/",
          "height": 35
        },
        "outputId": "5d4567ea-6b16-4731-ecd1-85d68e99f5e8"
      },
      "source": [
        "num3 = num1 + num2\n",
        "print(\"두 수의 합은\", num3, \"입니다.\")"
      ],
      "execution_count": null,
      "outputs": [
        {
          "output_type": "stream",
          "text": [
            "두 수의 합은 300 입니다.\n"
          ],
          "name": "stdout"
        }
      ]
    },
    {
      "cell_type": "markdown",
      "metadata": {
        "id": "nN48WnXXATrC"
      },
      "source": [
        "## 대화창 실습 : input() 함수와 공백 구분자를 사용한 split() 메소드"
      ]
    },
    {
      "cell_type": "code",
      "metadata": {
        "id": "ADiEzHTyATrD",
        "colab": {
          "base_uri": "https://localhost:8080/",
          "height": 35
        },
        "outputId": "e549c838-7e05-45e6-c8af-d3914fa777c8"
      },
      "source": [
        "s1, s2 = input('문자열 2개를 입력하세요: ').split()"
      ],
      "execution_count": null,
      "outputs": [
        {
          "output_type": "stream",
          "text": [
            "문자열 2개를 입력하세요: Hello Python\n"
          ],
          "name": "stdout"
        }
      ]
    },
    {
      "cell_type": "code",
      "metadata": {
        "id": "9dvQt-FiATrG",
        "colab": {
          "base_uri": "https://localhost:8080/",
          "height": 35
        },
        "outputId": "49e2d27a-3791-4c63-9869-178e7beb1611"
      },
      "source": [
        "s1"
      ],
      "execution_count": null,
      "outputs": [
        {
          "output_type": "execute_result",
          "data": {
            "text/plain": [
              "'Hello'"
            ]
          },
          "metadata": {
            "tags": []
          },
          "execution_count": 64
        }
      ]
    },
    {
      "cell_type": "code",
      "metadata": {
        "id": "0cFyEMWxATrJ",
        "colab": {
          "base_uri": "https://localhost:8080/",
          "height": 35
        },
        "outputId": "3b082f17-a8b6-48db-c147-ab55177b7676"
      },
      "source": [
        "s2"
      ],
      "execution_count": null,
      "outputs": [
        {
          "output_type": "execute_result",
          "data": {
            "text/plain": [
              "'Python'"
            ]
          },
          "metadata": {
            "tags": []
          },
          "execution_count": 65
        }
      ]
    },
    {
      "cell_type": "code",
      "metadata": {
        "id": "QYI1cQg2JXi5",
        "colab": {
          "base_uri": "https://localhost:8080/",
          "height": 34
        },
        "outputId": "01f01504-e05a-40bd-ea3e-ae981dc66fde"
      },
      "source": [
        "'Hi|Changwon|National,University'.split('|')"
      ],
      "execution_count": null,
      "outputs": [
        {
          "output_type": "execute_result",
          "data": {
            "text/plain": [
              "['Hi', 'Changwon', 'National,University']"
            ]
          },
          "metadata": {
            "tags": []
          },
          "execution_count": 32
        }
      ]
    },
    {
      "cell_type": "markdown",
      "metadata": {
        "id": "9-_0Ku4_ATrM"
      },
      "source": [
        "## 대화창 실습 : 공백 구분자를 사용한 input() 함수 실습"
      ]
    },
    {
      "cell_type": "code",
      "metadata": {
        "scrolled": true,
        "id": "zZbGd0uYATrM",
        "colab": {
          "base_uri": "https://localhost:8080/",
          "height": 35
        },
        "outputId": "e7365db5-726a-4886-b69c-a322efa0a8cf"
      },
      "source": [
        "num1, num2, num3 = input('세 정수를 입력하세요: ').split()"
      ],
      "execution_count": null,
      "outputs": [
        {
          "output_type": "stream",
          "text": [
            "세 정수를 입력하세요: 100 200 300\n"
          ],
          "name": "stdout"
        }
      ]
    },
    {
      "cell_type": "code",
      "metadata": {
        "id": "fK0GEowFATrP"
      },
      "source": [
        "num1, num2, num3 = int(num1), int(num2), int(num3)"
      ],
      "execution_count": null,
      "outputs": []
    },
    {
      "cell_type": "code",
      "metadata": {
        "id": "rLcBhpLjKr6d",
        "colab": {
          "base_uri": "https://localhost:8080/",
          "height": 35
        },
        "outputId": "c11ec6b6-bdf0-4880-886c-99371eb80a62"
      },
      "source": [
        "num1, num2, num3   "
      ],
      "execution_count": null,
      "outputs": [
        {
          "output_type": "execute_result",
          "data": {
            "text/plain": [
              "(100, 200, 300)"
            ]
          },
          "metadata": {
            "tags": []
          },
          "execution_count": 68
        }
      ]
    },
    {
      "cell_type": "markdown",
      "metadata": {
        "id": "vXnb4g1zATrU"
      },
      "source": [
        "## 대화창 실습 : 쉼표 구분자를 이용한 input() 함수 실습"
      ]
    },
    {
      "cell_type": "code",
      "metadata": {
        "scrolled": false,
        "id": "qxFLL4xKATrV",
        "colab": {
          "base_uri": "https://localhost:8080/",
          "height": 35
        },
        "outputId": "84caaaca-3b0c-462a-d110-f00de97914ee"
      },
      "source": [
        "num1, num2, num3 = input('세 정수를 ,로 구분하여 입력하세요: ').split(',')"
      ],
      "execution_count": null,
      "outputs": [
        {
          "output_type": "stream",
          "text": [
            "세 정수를 ,로 구분하여 입력하세요: 100,200,300\n"
          ],
          "name": "stdout"
        }
      ]
    },
    {
      "cell_type": "code",
      "metadata": {
        "id": "A7lqUICTATrY"
      },
      "source": [
        "num1, num2, num3 = int(num1), int(num2), int(num3)"
      ],
      "execution_count": null,
      "outputs": []
    },
    {
      "cell_type": "code",
      "metadata": {
        "id": "nClq66HgATrc",
        "colab": {
          "base_uri": "https://localhost:8080/",
          "height": 35
        },
        "outputId": "c8fe0ce3-d738-4102-ded1-7fa823445cd4"
      },
      "source": [
        "num1, num2, num3"
      ],
      "execution_count": null,
      "outputs": [
        {
          "output_type": "execute_result",
          "data": {
            "text/plain": [
              "(100, 200, 300)"
            ]
          },
          "metadata": {
            "tags": []
          },
          "execution_count": 71
        }
      ]
    },
    {
      "cell_type": "markdown",
      "metadata": {
        "id": "v2tImrZuATrj"
      },
      "source": [
        "## 대화창 실습 : 여러가지 문자열 메소드"
      ]
    },
    {
      "cell_type": "code",
      "metadata": {
        "scrolled": true,
        "id": "dIhJNmtCATrk",
        "colab": {
          "base_uri": "https://localhost:8080/",
          "height": 35
        },
        "outputId": "bb69b9c0-7c68-415b-aa44-69c2e5d8d28f"
      },
      "source": [
        "'hello'.upper()"
      ],
      "execution_count": null,
      "outputs": [
        {
          "output_type": "execute_result",
          "data": {
            "text/plain": [
              "'HELLO'"
            ]
          },
          "metadata": {
            "tags": []
          },
          "execution_count": 72
        }
      ]
    },
    {
      "cell_type": "code",
      "metadata": {
        "id": "pUV7o_l1ATrn",
        "colab": {
          "base_uri": "https://localhost:8080/",
          "height": 34
        },
        "outputId": "bf7599c3-8659-4e89-ab3b-76d596821799"
      },
      "source": [
        "'HELLO'.lower()"
      ],
      "execution_count": null,
      "outputs": [
        {
          "output_type": "execute_result",
          "data": {
            "text/plain": [
              "'hello'"
            ]
          },
          "metadata": {
            "tags": []
          },
          "execution_count": 40
        }
      ]
    },
    {
      "cell_type": "code",
      "metadata": {
        "id": "vXTEb7WwATrq",
        "colab": {
          "base_uri": "https://localhost:8080/",
          "height": 35
        },
        "outputId": "0240aa1d-3b72-48d1-efe5-e9bee7ff4cf8"
      },
      "source": [
        "'Guido Van Rossum'.split()"
      ],
      "execution_count": null,
      "outputs": [
        {
          "output_type": "execute_result",
          "data": {
            "text/plain": [
              "['Guido', 'Van', 'Rossum']"
            ]
          },
          "metadata": {
            "tags": []
          },
          "execution_count": 73
        }
      ]
    },
    {
      "cell_type": "code",
      "metadata": {
        "id": "UvFO4HH4ATrs",
        "colab": {
          "base_uri": "https://localhost:8080/",
          "height": 35
        },
        "outputId": "80ffee9e-5837-4e9a-8e9c-eea0c88e1cd4"
      },
      "source": [
        "'Apple,Banana,Orange'.split(',')"
      ],
      "execution_count": null,
      "outputs": [
        {
          "output_type": "execute_result",
          "data": {
            "text/plain": [
              "['Apple', 'Banana', 'Orange']"
            ]
          },
          "metadata": {
            "tags": []
          },
          "execution_count": 74
        }
      ]
    },
    {
      "cell_type": "code",
      "metadata": {
        "id": "JBO3p1o-ATrv",
        "colab": {
          "base_uri": "https://localhost:8080/",
          "height": 35
        },
        "outputId": "0f2cd679-3bb3-43d4-bacb-070f4664886a"
      },
      "source": [
        "'Apple|Banana|Orange|Kiwi'.split('|')"
      ],
      "execution_count": null,
      "outputs": [
        {
          "output_type": "execute_result",
          "data": {
            "text/plain": [
              "['Apple', 'Banana', 'Orange', 'Kiwi']"
            ]
          },
          "metadata": {
            "tags": []
          },
          "execution_count": 75
        }
      ]
    },
    {
      "cell_type": "markdown",
      "metadata": {
        "id": "0dSCRXC_ATr1"
      },
      "source": [
        "## 대화창 실습 : format() 메소드와 플레이스홀드"
      ]
    },
    {
      "cell_type": "code",
      "metadata": {
        "id": "daB8Kn0uATr1",
        "colab": {
          "base_uri": "https://localhost:8080/",
          "height": 35
        },
        "outputId": "439fce68-8569-48dd-a605-5b0cc3e51b5c"
      },
      "source": [
        "'{} Python!'.format('Hello')"
      ],
      "execution_count": null,
      "outputs": [
        {
          "output_type": "execute_result",
          "data": {
            "text/plain": [
              "'Hello Python!'"
            ]
          },
          "metadata": {
            "tags": []
          },
          "execution_count": 76
        }
      ]
    },
    {
      "cell_type": "code",
      "metadata": {
        "id": "tFTHSmmfLUYi",
        "colab": {
          "base_uri": "https://localhost:8080/",
          "height": 35
        },
        "outputId": "6ebba7d3-eea6-46b2-eb97-f6351c7461c5"
      },
      "source": [
        "'{} Python!'.format('Hi')"
      ],
      "execution_count": null,
      "outputs": [
        {
          "output_type": "execute_result",
          "data": {
            "text/plain": [
              "'Hi Python!'"
            ]
          },
          "metadata": {
            "tags": []
          },
          "execution_count": 77
        }
      ]
    },
    {
      "cell_type": "code",
      "metadata": {
        "id": "7bNVancE_yOk",
        "colab": {
          "base_uri": "https://localhost:8080/",
          "height": 35
        },
        "outputId": "1df4a6b2-e8f5-4d3c-fc38-eda0319f96de"
      },
      "source": [
        "'{0} Python!'.format('Hello')"
      ],
      "execution_count": null,
      "outputs": [
        {
          "output_type": "execute_result",
          "data": {
            "text/plain": [
              "'Hello Python!'"
            ]
          },
          "metadata": {
            "tags": []
          },
          "execution_count": 78
        }
      ]
    },
    {
      "cell_type": "markdown",
      "metadata": {
        "id": "82VkNKnWATr5"
      },
      "source": [
        "## 대화창 실습 : format() 메소드와 플레이스홀드의 인덱스"
      ]
    },
    {
      "cell_type": "code",
      "metadata": {
        "id": "gKrX3Vb0ATr6",
        "colab": {
          "base_uri": "https://localhost:8080/",
          "height": 35
        },
        "outputId": "ebe63329-322c-4c7a-b767-620ea0081973"
      },
      "source": [
        "'I like {} and {}'.format('Python', 'Java')"
      ],
      "execution_count": null,
      "outputs": [
        {
          "output_type": "execute_result",
          "data": {
            "text/plain": [
              "'I like Python and Java'"
            ]
          },
          "metadata": {
            "tags": []
          },
          "execution_count": 79
        }
      ]
    },
    {
      "cell_type": "code",
      "metadata": {
        "id": "wouGiRZfATr9",
        "colab": {
          "base_uri": "https://localhost:8080/",
          "height": 35
        },
        "outputId": "aaecc35d-0482-410b-a17d-e5b043cba42d"
      },
      "source": [
        " 'I like {0} and {1}'.format('Python', 'Java')"
      ],
      "execution_count": null,
      "outputs": [
        {
          "output_type": "execute_result",
          "data": {
            "text/plain": [
              "'I like Python and Java'"
            ]
          },
          "metadata": {
            "tags": []
          },
          "execution_count": 80
        }
      ]
    },
    {
      "cell_type": "code",
      "metadata": {
        "id": "VAFNG7zHATsB",
        "colab": {
          "base_uri": "https://localhost:8080/",
          "height": 35
        },
        "outputId": "b92b81c3-eafb-4b0b-d403-3cc3b072b379"
      },
      "source": [
        "'I like {1} and {0}'.format('Python', 'Java')"
      ],
      "execution_count": null,
      "outputs": [
        {
          "output_type": "execute_result",
          "data": {
            "text/plain": [
              "'I like Java and Python'"
            ]
          },
          "metadata": {
            "tags": []
          },
          "execution_count": 81
        }
      ]
    },
    {
      "cell_type": "markdown",
      "metadata": {
        "id": "xjgA_3KNm8Rj"
      },
      "source": [
        "## 대화창 실습 : format() 메소드와 플레이스홀드의 인덱스 사용법"
      ]
    },
    {
      "cell_type": "code",
      "metadata": {
        "id": "MOQJk-9uATsF",
        "colab": {
          "base_uri": "https://localhost:8080/",
          "height": 35
        },
        "outputId": "bdb472f6-8920-4ab1-e417-7ca2ec05b2ae"
      },
      "source": [
        "'{0}, {0}, {0}! Python'.format('Hello')"
      ],
      "execution_count": null,
      "outputs": [
        {
          "output_type": "execute_result",
          "data": {
            "text/plain": [
              "'Hello, Hello, Hello! Python'"
            ]
          },
          "metadata": {
            "tags": []
          },
          "execution_count": 82
        }
      ]
    },
    {
      "cell_type": "code",
      "metadata": {
        "id": "Yvum-SU6ATsI",
        "colab": {
          "base_uri": "https://localhost:8080/",
          "height": 35
        },
        "outputId": "8243c7bb-3d41-46cd-e4c7-1dbee15d5739"
      },
      "source": [
        "'{0}, {0}, {0}! Python'.format('Hello', 'Hi')"
      ],
      "execution_count": null,
      "outputs": [
        {
          "output_type": "execute_result",
          "data": {
            "text/plain": [
              "'Hello, Hello, Hello! Python'"
            ]
          },
          "metadata": {
            "tags": []
          },
          "execution_count": 83
        }
      ]
    },
    {
      "cell_type": "code",
      "metadata": {
        "scrolled": true,
        "id": "bnMeKLexATsL",
        "colab": {
          "base_uri": "https://localhost:8080/",
          "height": 35
        },
        "outputId": "aad0095d-2d80-42c8-d7b4-4e61c54836c0"
      },
      "source": [
        "'{0} {1}, {0} {1}, {0} {1}!'.format('Hello', 'Python')"
      ],
      "execution_count": null,
      "outputs": [
        {
          "output_type": "execute_result",
          "data": {
            "text/plain": [
              "'Hello Python, Hello Python, Hello Python!'"
            ]
          },
          "metadata": {
            "tags": []
          },
          "execution_count": 84
        }
      ]
    },
    {
      "cell_type": "code",
      "metadata": {
        "id": "jQjwvGUnATsO",
        "colab": {
          "base_uri": "https://localhost:8080/",
          "height": 35
        },
        "outputId": "5ac74238-95ae-47ec-a5d8-db8318f4fafd"
      },
      "source": [
        "'{0} {1}, {0} {1}, {0} {1}!'.format(100, 200)"
      ],
      "execution_count": null,
      "outputs": [
        {
          "output_type": "execute_result",
          "data": {
            "text/plain": [
              "'100 200, 100 200, 100 200!'"
            ]
          },
          "metadata": {
            "tags": []
          },
          "execution_count": 85
        }
      ]
    },
    {
      "cell_type": "markdown",
      "metadata": {
        "id": "ndLrLhZdATsS"
      },
      "source": [
        "## 대화창 실습 : 플레이스홀더 내의 객체 출력"
      ]
    },
    {
      "cell_type": "code",
      "metadata": {
        "id": "Nn3p8lwLATsT",
        "colab": {
          "base_uri": "https://localhost:8080/",
          "height": 35
        },
        "outputId": "fe870df6-5e00-4c0a-d484-e13ac05a3b4d"
      },
      "source": [
        "greet = 'Hello'\n",
        "'{} World!'.format(greet)"
      ],
      "execution_count": null,
      "outputs": [
        {
          "output_type": "execute_result",
          "data": {
            "text/plain": [
              "'Hello World!'"
            ]
          },
          "metadata": {
            "tags": []
          },
          "execution_count": 86
        }
      ]
    },
    {
      "cell_type": "markdown",
      "metadata": {
        "id": "jWOCORjmATsW"
      },
      "source": [
        "# 코드 4-33 : 플레이스홀더와 format() 메소드의 사용\n",
        "## print_format1.py"
      ]
    },
    {
      "cell_type": "code",
      "metadata": {
        "id": "vj7H6dbNATsW",
        "colab": {
          "base_uri": "https://localhost:8080/",
          "height": 35
        },
        "outputId": "e89e2f6c-5fd9-4b50-bc86-a9a2cf640241"
      },
      "source": [
        "name = 'Hong GilDong'\n",
        "print('My Name is {}!'.format(name))"
      ],
      "execution_count": null,
      "outputs": [
        {
          "output_type": "stream",
          "text": [
            "My Name is Hong GilDong!\n"
          ],
          "name": "stdout"
        }
      ]
    },
    {
      "cell_type": "markdown",
      "metadata": {
        "id": "SX28l75EATsc"
      },
      "source": [
        "# 코드 4-34 : 플레이스홀더와 format() 메소드의 사용 \n",
        "## print_format2.py"
      ]
    },
    {
      "cell_type": "code",
      "metadata": {
        "id": "H5ZuZ8w9ATsc",
        "colab": {
          "base_uri": "https://localhost:8080/",
          "height": 89
        },
        "outputId": "b4cf4b9a-251e-46fc-b2e9-a3c96ffa3d12"
      },
      "source": [
        "name = input('당신의 이름을 입력해주세요 : ')\n",
        "age = input('나이를 입력해주세요 : ')\n",
        "job = input('직업을 입력해주세요 : ')\n",
        "            \n",
        "print('당신의 이름은 {}, 나이는 {}살, 직업은 {}입니다.'.format(name, age, job))"
      ],
      "execution_count": null,
      "outputs": [
        {
          "output_type": "stream",
          "text": [
            "당신의 이름을 입력해주세요 : 김철수\n",
            "나이를 입력해주세요 : 21\n",
            "직업을 입력해주세요 : 학생\n",
            "당신의 이름은 김철수, 나이는 21살, 직업은 학생입니다.\n"
          ],
          "name": "stdout"
        }
      ]
    },
    {
      "cell_type": "markdown",
      "metadata": {
        "id": "g656SvgyATt0"
      },
      "source": [
        "## 대화창 실습 : 정수 표현을 위한 기본 포매팅"
      ]
    },
    {
      "cell_type": "code",
      "metadata": {
        "scrolled": true,
        "id": "SlJam7SaATt0",
        "colab": {
          "base_uri": "https://localhost:8080/",
          "height": 140
        },
        "outputId": "65d83dfa-5825-41d0-cc90-745242e3a586"
      },
      "source": [
        "for i in range(2, 15, 2):\n",
        "    print('{0} {1} {2}'.format(i, i*i, i*i*i))"
      ],
      "execution_count": null,
      "outputs": [
        {
          "output_type": "stream",
          "text": [
            "2 4 8\n",
            "4 16 64\n",
            "6 36 216\n",
            "8 64 512\n",
            "10 100 1000\n",
            "12 144 1728\n",
            "14 196 2744\n"
          ],
          "name": "stdout"
        }
      ]
    },
    {
      "cell_type": "markdown",
      "metadata": {
        "id": "8vvdBg5XATt5"
      },
      "source": [
        "## 대화창 실습 : 출력 간의 크기 지정을 통한 정수 포매팅"
      ]
    },
    {
      "cell_type": "code",
      "metadata": {
        "scrolled": true,
        "id": "rip4eADfATt6",
        "colab": {
          "base_uri": "https://localhost:8080/",
          "height": 140
        },
        "outputId": "2a4e96d4-e8db-47e1-a82f-241eed0bf07a"
      },
      "source": [
        "for i in range(2, 15, 2):\n",
        "    print('{0:3d} {1:4d} {2:5d}'.format(i, i*i, i*i*i))"
      ],
      "execution_count": null,
      "outputs": [
        {
          "output_type": "stream",
          "text": [
            "  2    4     8\n",
            "  4   16    64\n",
            "  6   36   216\n",
            "  8   64   512\n",
            " 10  100  1000\n",
            " 12  144  1728\n",
            " 14  196  2744\n"
          ],
          "name": "stdout"
        }
      ]
    },
    {
      "cell_type": "markdown",
      "metadata": {
        "id": "GxSdTPKHATt9"
      },
      "source": [
        "## 대화창 실습 : 소수점 아래 자리수를 조절하는 실수 포매팅"
      ]
    },
    {
      "cell_type": "code",
      "metadata": {
        "scrolled": true,
        "id": "dZa4_xB9ATt-",
        "colab": {
          "base_uri": "https://localhost:8080/",
          "height": 35
        },
        "outputId": "73b0d38d-6ac2-4c2c-f0fb-89b79a77c14e"
      },
      "source": [
        "print('소수점 두 자리로 표현한 원주율 = {0:10.2f}'.format(3.1415926))"
      ],
      "execution_count": null,
      "outputs": [
        {
          "output_type": "stream",
          "text": [
            "소수점 두 자리로 표현한 원주율 =       3.14\n"
          ],
          "name": "stdout"
        }
      ]
    },
    {
      "cell_type": "code",
      "metadata": {
        "scrolled": true,
        "id": "2PqrUTcAATuD",
        "colab": {
          "base_uri": "https://localhost:8080/",
          "height": 35
        },
        "outputId": "2c248a05-75b2-497c-e096-691f94359420"
      },
      "source": [
        "print('소수점 세 자리로 표현한 원주율 = {0:10.3f}'.format(3.1415926))"
      ],
      "execution_count": null,
      "outputs": [
        {
          "output_type": "stream",
          "text": [
            "소수점 세 자리로 표현한 원주율 =      3.142\n"
          ],
          "name": "stdout"
        }
      ]
    },
    {
      "cell_type": "code",
      "metadata": {
        "id": "0dtJNn-8ATuJ",
        "colab": {
          "base_uri": "https://localhost:8080/",
          "height": 35
        },
        "outputId": "c0ad5c71-65f0-45a1-c8b0-d935638c18a8"
      },
      "source": [
        "print('소수점 네 자리로 표현한 원주율 = {0:10.4f}'.format(3.1415926))"
      ],
      "execution_count": null,
      "outputs": [
        {
          "output_type": "stream",
          "text": [
            "소수점 네 자리로 표현한 원주율 =     3.1416\n"
          ],
          "name": "stdout"
        }
      ]
    },
    {
      "cell_type": "markdown",
      "metadata": {
        "id": "aoYqulcFATuM"
      },
      "source": [
        "## 대화창 실습 : 실수 표현을 위한 포매팅에서 소수점 "
      ]
    },
    {
      "cell_type": "code",
      "metadata": {
        "scrolled": true,
        "id": "M7pOy58RATuN",
        "colab": {
          "base_uri": "https://localhost:8080/",
          "height": 34
        },
        "outputId": "a2ae7710-2586-4e91-c28c-4bf0ddb700d0"
      },
      "source": [
        "print('1/3은 {:.3f}'.format(1/3))   # 소수점 아래 출력만 지정"
      ],
      "execution_count": null,
      "outputs": [
        {
          "output_type": "stream",
          "text": [
            "1/3은 0.333\n"
          ],
          "name": "stdout"
        }
      ]
    },
    {
      "cell_type": "markdown",
      "metadata": {
        "id": "yedUfEhbATuQ"
      },
      "source": [
        "## 대화창 실습 : 1000 단위 쉼표 출력방법"
      ]
    },
    {
      "cell_type": "code",
      "metadata": {
        "id": "i4zXX4-qATuR",
        "colab": {
          "base_uri": "https://localhost:8080/",
          "height": 34
        },
        "outputId": "11119a80-cab7-4376-c6cb-e48dd44c5ab5"
      },
      "source": [
        "print('{:,}'.format(1234567890))     # 1000단위 쉼표 출력"
      ],
      "execution_count": null,
      "outputs": [
        {
          "output_type": "stream",
          "text": [
            "1,234,567,890\n"
          ],
          "name": "stdout"
        }
      ]
    },
    {
      "cell_type": "markdown",
      "metadata": {
        "id": "9UoH20PeATuT"
      },
      "source": [
        "## 대화창 실습 : 플레이스홀더 내에 키-값 형식으로 인자를 전달하는 방법"
      ]
    },
    {
      "cell_type": "code",
      "metadata": {
        "scrolled": true,
        "id": "dUb65sn7ATuU",
        "colab": {
          "base_uri": "https://localhost:8080/",
          "height": 34
        },
        "outputId": "7de92290-df28-422e-bdf3-ee373da05024"
      },
      "source": [
        "print('부산의 위도 : {0}, 경도: {1}'.format('35.17N', '129.07E'))"
      ],
      "execution_count": null,
      "outputs": [
        {
          "output_type": "stream",
          "text": [
            "부산의 위도 : 35.17N, 경도: 129.07E\n"
          ],
          "name": "stdout"
        }
      ]
    },
    {
      "cell_type": "code",
      "metadata": {
        "scrolled": true,
        "id": "5HXzGZT1ATuX",
        "colab": {
          "base_uri": "https://localhost:8080/",
          "height": 34
        },
        "outputId": "21fe5c4e-a0da-4e99-c806-e9af413254c4"
      },
      "source": [
        "print('부산의 위도 : {lat}, 경도: {long}'.format(lat='35.17N', long='129.07E'))"
      ],
      "execution_count": null,
      "outputs": [
        {
          "output_type": "stream",
          "text": [
            "부산의 위도 : 35.17N, 경도: 129.07E\n"
          ],
          "name": "stdout"
        }
      ]
    },
    {
      "cell_type": "code",
      "metadata": {
        "scrolled": true,
        "id": "zzAKI1VjATub",
        "colab": {
          "base_uri": "https://localhost:8080/",
          "height": 34
        },
        "outputId": "d7ec38c6-2240-4837-cb14-ac2dc73b7081"
      },
      "source": [
        "print('부산의 위도 : {lat}, 경도: {long}'.format(long='129.07E', lat='35.17N'))"
      ],
      "execution_count": null,
      "outputs": [
        {
          "output_type": "stream",
          "text": [
            "부산의 위도 : 35.17N, 경도: 129.07E\n"
          ],
          "name": "stdout"
        }
      ]
    },
    {
      "cell_type": "markdown",
      "metadata": {
        "id": "DROajqGcn_Ve"
      },
      "source": [
        "## 대화창 실습 : 문자열의 다양한 메소드"
      ]
    },
    {
      "cell_type": "code",
      "metadata": {
        "id": "zdegYPJioCgV",
        "colab": {
          "base_uri": "https://localhost:8080/",
          "height": 34
        },
        "outputId": "5bf632c6-97fa-46b4-af0c-19898aef934a"
      },
      "source": [
        "'abc'.upper()          # 대문자로 만든다."
      ],
      "execution_count": null,
      "outputs": [
        {
          "output_type": "execute_result",
          "data": {
            "text/plain": [
              "'ABC'"
            ]
          },
          "metadata": {
            "tags": []
          },
          "execution_count": 68
        }
      ]
    },
    {
      "cell_type": "code",
      "metadata": {
        "id": "gbb-GcdQoEPq",
        "colab": {
          "base_uri": "https://localhost:8080/",
          "height": 34
        },
        "outputId": "22e5d783-9f45-4cfe-a874-45b9177048de"
      },
      "source": [
        "'ABC'.lower()          # 소문자로 만든다."
      ],
      "execution_count": null,
      "outputs": [
        {
          "output_type": "execute_result",
          "data": {
            "text/plain": [
              "'abc'"
            ]
          },
          "metadata": {
            "tags": []
          },
          "execution_count": 69
        }
      ]
    },
    {
      "cell_type": "code",
      "metadata": {
        "id": "AuIjco22oEZ1",
        "colab": {
          "base_uri": "https://localhost:8080/",
          "height": 34
        },
        "outputId": "754d45f2-057d-4d85-e0fb-037ad65953d0"
      },
      "source": [
        "'hobby'.count('h')     # 'h' 문자가 나타나는 횟수를 구한다."
      ],
      "execution_count": null,
      "outputs": [
        {
          "output_type": "execute_result",
          "data": {
            "text/plain": [
              "1"
            ]
          },
          "metadata": {
            "tags": []
          },
          "execution_count": 70
        }
      ]
    },
    {
      "cell_type": "code",
      "metadata": {
        "id": "bwX84iFroEkc",
        "colab": {
          "base_uri": "https://localhost:8080/",
          "height": 34
        },
        "outputId": "b93807ae-96eb-43a9-98a7-820c7b4aa89a"
      },
      "source": [
        "'hobby'.count('b')     # 'b' 문자가 나타나는 횟수를 구한다."
      ],
      "execution_count": null,
      "outputs": [
        {
          "output_type": "execute_result",
          "data": {
            "text/plain": [
              "2"
            ]
          },
          "metadata": {
            "tags": []
          },
          "execution_count": 71
        }
      ]
    },
    {
      "cell_type": "code",
      "metadata": {
        "id": "__ehOHBJoEt2",
        "colab": {
          "base_uri": "https://localhost:8080/",
          "height": 34
        },
        "outputId": "9763ad1a-69ca-4f67-a334-051542f90b3f"
      },
      "source": [
        "'hobby'.find('h')     # 'h' 문자의 위치를 반환한다."
      ],
      "execution_count": null,
      "outputs": [
        {
          "output_type": "execute_result",
          "data": {
            "text/plain": [
              "0"
            ]
          },
          "metadata": {
            "tags": []
          },
          "execution_count": 72
        }
      ]
    },
    {
      "cell_type": "code",
      "metadata": {
        "id": "SvgTTOYLoZ9c",
        "colab": {
          "base_uri": "https://localhost:8080/",
          "height": 34
        },
        "outputId": "9688f8f3-cd0d-42bc-8ba9-9aee763d6765"
      },
      "source": [
        "'hobby'.find('b')     # 'b' 문자의 위치를 반환한다."
      ],
      "execution_count": null,
      "outputs": [
        {
          "output_type": "execute_result",
          "data": {
            "text/plain": [
              "2"
            ]
          },
          "metadata": {
            "tags": []
          },
          "execution_count": 73
        }
      ]
    },
    {
      "cell_type": "markdown",
      "metadata": {
        "id": "D_HURL44odK_"
      },
      "source": [
        "## 대화창 실습 : 문자열의 메소드 실습"
      ]
    },
    {
      "cell_type": "code",
      "metadata": {
        "id": "AVmsVcxOohMR",
        "colab": {
          "base_uri": "https://localhost:8080/",
          "height": 34
        },
        "outputId": "1c9d5106-76b0-4728-dc3d-a638b8e29314"
      },
      "source": [
        "','.join('ABCD')"
      ],
      "execution_count": null,
      "outputs": [
        {
          "output_type": "execute_result",
          "data": {
            "text/plain": [
              "'A,B,C,D'"
            ]
          },
          "metadata": {
            "tags": []
          },
          "execution_count": 74
        }
      ]
    },
    {
      "cell_type": "code",
      "metadata": {
        "id": "LPifFN6IohT7",
        "colab": {
          "base_uri": "https://localhost:8080/",
          "height": 34
        },
        "outputId": "9e14c761-c418-4bfe-c160-2a4a896d8c69"
      },
      "source": [
        "'   hello   '.rstrip()       # 오른쪽 공백 지우기"
      ],
      "execution_count": null,
      "outputs": [
        {
          "output_type": "execute_result",
          "data": {
            "text/plain": [
              "'   hello'"
            ]
          },
          "metadata": {
            "tags": []
          },
          "execution_count": 75
        }
      ]
    },
    {
      "cell_type": "code",
      "metadata": {
        "id": "VlCzWZ4Mohak",
        "colab": {
          "base_uri": "https://localhost:8080/",
          "height": 34
        },
        "outputId": "8f306574-a8ef-438a-d7ef-1a233e579894"
      },
      "source": [
        "'   hello   '.lstrip()       # 왼쪽 공백 지우기"
      ],
      "execution_count": null,
      "outputs": [
        {
          "output_type": "execute_result",
          "data": {
            "text/plain": [
              "'hello   '"
            ]
          },
          "metadata": {
            "tags": []
          },
          "execution_count": 76
        }
      ]
    },
    {
      "cell_type": "code",
      "metadata": {
        "id": "QOjjHH1uO5M3",
        "colab": {
          "base_uri": "https://localhost:8080/",
          "height": 34
        },
        "outputId": "feb25d31-dd6c-48fd-ff40-6f4bcac2dbdf"
      },
      "source": [
        "'   hello   '.strip()        # 공백 지우기"
      ],
      "execution_count": null,
      "outputs": [
        {
          "output_type": "execute_result",
          "data": {
            "text/plain": [
              "'hello'"
            ]
          },
          "metadata": {
            "tags": []
          },
          "execution_count": 77
        }
      ]
    },
    {
      "cell_type": "code",
      "metadata": {
        "id": "A9u8iGbFohgp",
        "colab": {
          "base_uri": "https://localhost:8080/",
          "height": 34
        },
        "outputId": "c518b8d4-3875-421d-8484-097dc12bea33"
      },
      "source": [
        "s1 = 'Long live the King!'\n",
        "s1.replace('King', 'Queen')  # 문자열 교환"
      ],
      "execution_count": null,
      "outputs": [
        {
          "output_type": "execute_result",
          "data": {
            "text/plain": [
              "'Long live the Queen!'"
            ]
          },
          "metadata": {
            "tags": []
          },
          "execution_count": 78
        }
      ]
    },
    {
      "cell_type": "code",
      "metadata": {
        "id": "KSlB7R3vPKbv",
        "colab": {
          "base_uri": "https://localhost:8080/",
          "height": 34
        },
        "outputId": "66ae9363-9c0d-4b5e-dac7-053582a0b2bf"
      },
      "source": [
        "s1.title()                   # 타이틀 문자열로 변환"
      ],
      "execution_count": null,
      "outputs": [
        {
          "output_type": "execute_result",
          "data": {
            "text/plain": [
              "'Long Live The King!'"
            ]
          },
          "metadata": {
            "tags": []
          },
          "execution_count": 79
        }
      ]
    },
    {
      "cell_type": "code",
      "metadata": {
        "id": "sHG46OKjPR1f",
        "colab": {
          "base_uri": "https://localhost:8080/",
          "height": 34
        },
        "outputId": "eda74ec1-2ea4-443e-a81c-e063aaacbaa6"
      },
      "source": [
        "s1.capitalize()              # 첫 문자만 대문자로 변환"
      ],
      "execution_count": null,
      "outputs": [
        {
          "output_type": "execute_result",
          "data": {
            "text/plain": [
              "'Long live the king!'"
            ]
          },
          "metadata": {
            "tags": []
          },
          "execution_count": 80
        }
      ]
    },
    {
      "cell_type": "code",
      "metadata": {
        "id": "UzHcOk71ohoa",
        "colab": {
          "base_uri": "https://localhost:8080/",
          "height": 34
        },
        "outputId": "3a80b695-f614-48e6-a20a-7dae0a041719"
      },
      "source": [
        "s2 = \"X:Y:Z\"\n",
        "s2.split(':')                # :를 구분자로 하여 s2 문자를 리스트로 분리함"
      ],
      "execution_count": null,
      "outputs": [
        {
          "output_type": "execute_result",
          "data": {
            "text/plain": [
              "['X', 'Y', 'Z']"
            ]
          },
          "metadata": {
            "tags": []
          },
          "execution_count": 81
        }
      ]
    },
    {
      "cell_type": "code",
      "metadata": {
        "id": "zq2Oo3C-ohvc",
        "colab": {
          "base_uri": "https://localhost:8080/",
          "height": 34
        },
        "outputId": "c7b4d50f-9681-4aa0-9b7e-85dffad8ff84"
      },
      "source": [
        "'Hello ' + 'Python!'         # + 연산자를 이용하여 문자를 연결함"
      ],
      "execution_count": null,
      "outputs": [
        {
          "output_type": "execute_result",
          "data": {
            "text/plain": [
              "'Hello Python!'"
            ]
          },
          "metadata": {
            "tags": []
          },
          "execution_count": 82
        }
      ]
    },
    {
      "cell_type": "markdown",
      "metadata": {
        "id": "Cn0wYo4ZATvb"
      },
      "source": [
        "## 대화창 실습 : 대화형 모드를 통한 여러 가지 내장함수 실습"
      ]
    },
    {
      "cell_type": "code",
      "metadata": {
        "id": "KLbtuq_bATvb",
        "colab": {
          "base_uri": "https://localhost:8080/",
          "height": 34
        },
        "outputId": "415e96e3-4b9e-41b1-89df-9c7903521a7d"
      },
      "source": [
        "abs(-100)                # 절대값을 반환하는 함수"
      ],
      "execution_count": null,
      "outputs": [
        {
          "output_type": "execute_result",
          "data": {
            "text/plain": [
              "100"
            ]
          },
          "metadata": {
            "tags": []
          },
          "execution_count": 83
        }
      ]
    },
    {
      "cell_type": "code",
      "metadata": {
        "id": "C2pP2_pRATvd",
        "colab": {
          "base_uri": "https://localhost:8080/",
          "height": 34
        },
        "outputId": "92e2be3e-ab98-404c-f7c0-e4f6ff068da4"
      },
      "source": [
        "min(200, 100, 300, 400)  # 여러 원소들 중 최솟값을 반환하는 함수"
      ],
      "execution_count": null,
      "outputs": [
        {
          "output_type": "execute_result",
          "data": {
            "text/plain": [
              "100"
            ]
          },
          "metadata": {
            "tags": []
          },
          "execution_count": 84
        }
      ]
    },
    {
      "cell_type": "code",
      "metadata": {
        "id": "Iy9ehpM1ATvg",
        "colab": {
          "base_uri": "https://localhost:8080/",
          "height": 34
        },
        "outputId": "e96577c9-f38d-45a7-94ef-0607378f2bd8"
      },
      "source": [
        "max(200, 100, 300, 400)  # 여러 원소들 중 최댓값을 반환하는 함수"
      ],
      "execution_count": null,
      "outputs": [
        {
          "output_type": "execute_result",
          "data": {
            "text/plain": [
              "400"
            ]
          },
          "metadata": {
            "tags": []
          },
          "execution_count": 85
        }
      ]
    },
    {
      "cell_type": "code",
      "metadata": {
        "id": "M8Aunkh-ATvi",
        "colab": {
          "base_uri": "https://localhost:8080/",
          "height": 34
        },
        "outputId": "a97e1b7b-11ca-451d-e00c-bababd668860"
      },
      "source": [
        "str1 = \"FOO\"             # \"Foo\" 혹은 'FOO' 형식으로 문자열 객체를 생성함\n",
        "len(str1)                # 문자열의 길이를 반환"
      ],
      "execution_count": null,
      "outputs": [
        {
          "output_type": "execute_result",
          "data": {
            "text/plain": [
              "3"
            ]
          },
          "metadata": {
            "tags": []
          },
          "execution_count": 87
        }
      ]
    },
    {
      "cell_type": "code",
      "metadata": {
        "id": "Ef1LMSJcATvk",
        "colab": {
          "base_uri": "https://localhost:8080/",
          "height": 34
        },
        "outputId": "7aadc8ba-e37a-4df3-e853-7d0eef852d15"
      },
      "source": [
        "type(str1)               # 객체의 타입(형)을 반환"
      ],
      "execution_count": null,
      "outputs": [
        {
          "output_type": "execute_result",
          "data": {
            "text/plain": [
              "str"
            ]
          },
          "metadata": {
            "tags": []
          },
          "execution_count": 88
        }
      ]
    },
    {
      "cell_type": "code",
      "metadata": {
        "id": "hAuZ4Md7ATvm",
        "colab": {
          "base_uri": "https://localhost:8080/",
          "height": 34
        },
        "outputId": "af359abe-22fc-4a5d-895c-4f7e06788a4c"
      },
      "source": [
        "id(str1)                 # 객체의 아이디 값을 반환"
      ],
      "execution_count": null,
      "outputs": [
        {
          "output_type": "execute_result",
          "data": {
            "text/plain": [
              "140168168956624"
            ]
          },
          "metadata": {
            "tags": []
          },
          "execution_count": 89
        }
      ]
    },
    {
      "cell_type": "code",
      "metadata": {
        "id": "7o1_l3htATvo",
        "colab": {
          "base_uri": "https://localhost:8080/",
          "height": 34
        },
        "outputId": "507494bd-6ee3-44e6-a208-6aa22fd3bf4e"
      },
      "source": [
        "eval(\"100+200+300\")      # 문자열을 수치값과 연산자로 변환하여 평가"
      ],
      "execution_count": null,
      "outputs": [
        {
          "output_type": "execute_result",
          "data": {
            "text/plain": [
              "600"
            ]
          },
          "metadata": {
            "tags": []
          },
          "execution_count": 90
        }
      ]
    },
    {
      "cell_type": "code",
      "metadata": {
        "id": "f7q-dQJoATvq",
        "colab": {
          "base_uri": "https://localhost:8080/",
          "height": 34
        },
        "outputId": "34f5f564-5378-43e2-80c7-5f7c00a891fa"
      },
      "source": [
        "sorted(\"EABFD\")          # 문자열을 정렬"
      ],
      "execution_count": null,
      "outputs": [
        {
          "output_type": "execute_result",
          "data": {
            "text/plain": [
              "['A', 'B', 'D', 'E', 'F']"
            ]
          },
          "metadata": {
            "tags": []
          },
          "execution_count": 91
        }
      ]
    },
    {
      "cell_type": "code",
      "metadata": {
        "id": "XNT_llU-ATvs",
        "colab": {
          "base_uri": "https://localhost:8080/",
          "height": 34
        },
        "outputId": "7578e25e-6378-4e4b-d5ab-ec99dcaf4050"
      },
      "source": [
        "list = [200, 100, 300, 400]\n",
        "sorted(list)"
      ],
      "execution_count": null,
      "outputs": [
        {
          "output_type": "execute_result",
          "data": {
            "text/plain": [
              "[100, 200, 300, 400]"
            ]
          },
          "metadata": {
            "tags": []
          },
          "execution_count": 92
        }
      ]
    },
    {
      "cell_type": "code",
      "metadata": {
        "id": "VP2KRhjEATvv",
        "colab": {
          "base_uri": "https://localhost:8080/",
          "height": 34
        },
        "outputId": "fd8c3c55-c251-43fb-9161-212e937efa05"
      },
      "source": [
        "sorted(list, reverse = True)"
      ],
      "execution_count": null,
      "outputs": [
        {
          "output_type": "execute_result",
          "data": {
            "text/plain": [
              "[400, 300, 200, 100]"
            ]
          },
          "metadata": {
            "tags": []
          },
          "execution_count": 93
        }
      ]
    },
    {
      "cell_type": "markdown",
      "metadata": {
        "id": "zBkX8O1hATv0"
      },
      "source": [
        "## 대화창 실습 : 대화형 모드를 통한 id 함수 실습"
      ]
    },
    {
      "cell_type": "code",
      "metadata": {
        "id": "661o1CjzATv1",
        "colab": {
          "base_uri": "https://localhost:8080/",
          "height": 34
        },
        "outputId": "cb93ccc5-2b5a-4b02-af1b-b191fb25b0b5"
      },
      "source": [
        "a_str = \"Hello Python!\"\n",
        "id(a_str)"
      ],
      "execution_count": null,
      "outputs": [
        {
          "output_type": "execute_result",
          "data": {
            "text/plain": [
              "140168168655792"
            ]
          },
          "metadata": {
            "tags": []
          },
          "execution_count": 95
        }
      ]
    },
    {
      "cell_type": "code",
      "metadata": {
        "id": "x0mXamY8ATv3",
        "colab": {
          "base_uri": "https://localhost:8080/",
          "height": 34
        },
        "outputId": "5966a50b-c99c-4067-ea9d-bdd5d03f6621"
      },
      "source": [
        "n = 300\n",
        "id(n)"
      ],
      "execution_count": null,
      "outputs": [
        {
          "output_type": "execute_result",
          "data": {
            "text/plain": [
              "140168168674288"
            ]
          },
          "metadata": {
            "tags": []
          },
          "execution_count": 96
        }
      ]
    },
    {
      "cell_type": "code",
      "metadata": {
        "id": "UzKXXuC3ATv6",
        "colab": {
          "base_uri": "https://localhost:8080/",
          "height": 34
        },
        "outputId": "93dac12b-456e-42e3-8ebc-dc8c2bd4e825"
      },
      "source": [
        "a_list = [100, 200, 300]\n",
        "id(a_list)"
      ],
      "execution_count": null,
      "outputs": [
        {
          "output_type": "execute_result",
          "data": {
            "text/plain": [
              "140168168653640"
            ]
          },
          "metadata": {
            "tags": []
          },
          "execution_count": 97
        }
      ]
    },
    {
      "cell_type": "markdown",
      "metadata": {
        "id": "YbgGyhRxATv8"
      },
      "source": [
        "## 대화창 실습 : 여러가지 자료형에 대한 type() 함수의 적용"
      ]
    },
    {
      "cell_type": "code",
      "metadata": {
        "id": "g32hnMGwATv9",
        "colab": {
          "base_uri": "https://localhost:8080/",
          "height": 34
        },
        "outputId": "060bd2f4-fd49-4094-ae94-b7b27e914198"
      },
      "source": [
        "type(123)"
      ],
      "execution_count": null,
      "outputs": [
        {
          "output_type": "execute_result",
          "data": {
            "text/plain": [
              "int"
            ]
          },
          "metadata": {
            "tags": []
          },
          "execution_count": 98
        }
      ]
    },
    {
      "cell_type": "code",
      "metadata": {
        "id": "2svDtfJ-ATwC",
        "colab": {
          "base_uri": "https://localhost:8080/",
          "height": 34
        },
        "outputId": "c85d0f1a-6d1d-453d-8c4d-a8ff3a5b7bdf"
      },
      "source": [
        "type('Hello String!')"
      ],
      "execution_count": null,
      "outputs": [
        {
          "output_type": "execute_result",
          "data": {
            "text/plain": [
              "str"
            ]
          },
          "metadata": {
            "tags": []
          },
          "execution_count": 99
        }
      ]
    },
    {
      "cell_type": "code",
      "metadata": {
        "id": "bpMdNYVZATwE",
        "colab": {
          "base_uri": "https://localhost:8080/",
          "height": 34
        },
        "outputId": "564ed295-ac17-4d2d-cd14-d6bc7f8fbe58"
      },
      "source": [
        "type(120.3)"
      ],
      "execution_count": null,
      "outputs": [
        {
          "output_type": "execute_result",
          "data": {
            "text/plain": [
              "float"
            ]
          },
          "metadata": {
            "tags": []
          },
          "execution_count": 100
        }
      ]
    },
    {
      "cell_type": "code",
      "metadata": {
        "id": "nKb0b75qATwL",
        "colab": {
          "base_uri": "https://localhost:8080/",
          "height": 34
        },
        "outputId": "3e8f5843-9369-4c7c-9e05-be02b47be725"
      },
      "source": [
        "type([100, 300, 600])"
      ],
      "execution_count": null,
      "outputs": [
        {
          "output_type": "execute_result",
          "data": {
            "text/plain": [
              "list"
            ]
          },
          "metadata": {
            "tags": []
          },
          "execution_count": 101
        }
      ]
    },
    {
      "cell_type": "markdown",
      "metadata": {
        "id": "nLFdboXNATwN"
      },
      "source": [
        "## 대화창 실습 : 수식을 가진 문자열과 eval 함수"
      ]
    },
    {
      "cell_type": "code",
      "metadata": {
        "id": "6lchbKR3ATwN",
        "colab": {
          "base_uri": "https://localhost:8080/",
          "height": 34
        },
        "outputId": "5539306b-1c7f-4cb4-f193-d1e7085681ab"
      },
      "source": [
        "eval('10 + 20')       # 10 + 20 문장을 파이썬 번역기가 수행함"
      ],
      "execution_count": null,
      "outputs": [
        {
          "output_type": "execute_result",
          "data": {
            "text/plain": [
              "30"
            ]
          },
          "metadata": {
            "tags": []
          },
          "execution_count": 102
        }
      ]
    },
    {
      "cell_type": "code",
      "metadata": {
        "id": "Vsc8BSzAATwP",
        "colab": {
          "base_uri": "https://localhost:8080/",
          "height": 34
        },
        "outputId": "4d66e211-8fb7-44ef-8439-22fe0d44332a"
      },
      "source": [
        "eval('(5 * 20) / 2')  # (5 * 20) / 2 문장을 파이썬 번역기가 수행함"
      ],
      "execution_count": null,
      "outputs": [
        {
          "output_type": "execute_result",
          "data": {
            "text/plain": [
              "50.0"
            ]
          },
          "metadata": {
            "tags": []
          },
          "execution_count": 103
        }
      ]
    },
    {
      "cell_type": "code",
      "metadata": {
        "id": "7S6Oy3xGQvbm",
        "colab": {
          "base_uri": "https://localhost:8080/",
          "height": 34
        },
        "outputId": "7150491a-aee5-47ab-8577-5e003c495393"
      },
      "source": [
        "chr(65)               # 유니코드 값 65는 알파벳 'A'이며, chr() 함수는 이를 반환함"
      ],
      "execution_count": null,
      "outputs": [
        {
          "output_type": "execute_result",
          "data": {
            "text/plain": [
              "'A'"
            ]
          },
          "metadata": {
            "tags": []
          },
          "execution_count": 104
        }
      ]
    },
    {
      "cell_type": "code",
      "metadata": {
        "id": "08NrhnFEQ4bp",
        "colab": {
          "base_uri": "https://localhost:8080/",
          "height": 34
        },
        "outputId": "36748c88-69aa-4810-8d79-52052b0087c1"
      },
      "source": [
        "ord('A')              # 알파벳 'A'의 유니코드 값 65를 반환함"
      ],
      "execution_count": null,
      "outputs": [
        {
          "output_type": "execute_result",
          "data": {
            "text/plain": [
              "65"
            ]
          },
          "metadata": {
            "tags": []
          },
          "execution_count": 105
        }
      ]
    }
  ]
}